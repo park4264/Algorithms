{
 "cells": [
  {
   "cell_type": "markdown",
   "id": "41c22988",
   "metadata": {},
   "source": [
    "# 시간측정하기"
   ]
  },
  {
   "cell_type": "code",
   "execution_count": 6,
   "id": "5e2f580d",
   "metadata": {},
   "outputs": [
    {
     "name": "stdout",
     "output_type": "stream",
     "text": [
      "선택 정렬 성능 측정: 12.407087802886963\n",
      "기본 정렬 라이브러리 성능 측정: 0.0019910335540771484\n"
     ]
    }
   ],
   "source": [
    "from random import randint\n",
    "import time\n",
    "\n",
    "# 배열에 10,000개의 정수를 삽입\n",
    "array = []\n",
    "for _ in range(10000):\n",
    "    array.append(randint(1, 100)) # 1부터 100 사이의 랜덤한 정수\n",
    "\n",
    "# 선택 정렬 프로그램 성능 측정\n",
    "start_time = time.time()\n",
    "\n",
    "# 선택 정렬 프로그램 소스코드\n",
    "for i in range(len(array)):\n",
    "    min_index = i # 가장 작은 원소의 인덱스\n",
    "    for j in range(i + 1, len(array)):\n",
    "        if array[min_index] > array[j]:\n",
    "            min_index = j\n",
    "    array[i], array[min_index] = array[min_index], array[i] # 스와프\n",
    "\n",
    "end_time = time.time() # 측정 종료\n",
    "print(\"선택 정렬 성능 측정:\", end_time - start_time) # 수행 시간 출력\n",
    "\n",
    "# 배열을 다시 무작위 데이터로 초기화\n",
    "array = []\n",
    "for _ in range(10000):\n",
    "    array.append(randint(1, 100)) # 1부터 100 사이의 랜덤한 정수\n",
    "\n",
    "# 기본 정렬 라이브러리 성능 측정\n",
    "start_time = time.time()\n",
    "\n",
    "# 기본 정렬 라이브러리 사용\n",
    "array.sort()\n",
    "\n",
    "end_time = time.time() # 측정 종료\n",
    "print(\"기본 정렬 라이브러리 성능 측정:\", end_time - start_time) # 수행 시간 출력"
   ]
  },
  {
   "cell_type": "markdown",
   "id": "77121484",
   "metadata": {},
   "source": [
    "- 시간 제한이 1초일 때\n",
    "    - N의 범위가 500인 경우: 시간 복잡도가 $O(N^3)$인 알고리즘을 설계하면 문제를 풀 수 있다.\n",
    "    - N의 범위가 2,000인 경우: 시간 복잡도가 $O(N^2)$인 알고리즘을 설계하면 문제를 풀 수 있다.\n",
    "    - N의 범위가 100,000인 경우: 시간 복잡도가 $O(N\\log N)$인 알고리즘을 설계하면 문제를 풀 수 있다.\n",
    "    - N의 범위가 10,000,000인 경우: 시간 복잡도가 $O(N)$인 알고리즘을 설계하면 문제를 풀 수 있다."
   ]
  },
  {
   "cell_type": "markdown",
   "id": "b0fe3052",
   "metadata": {},
   "source": [
    "# Chapter 3. 그리디 (Greedy)\n",
    "\n",
    "- 현재 상황에서 지금 당장 좋은 것만 고르는 방법\n",
    "- 보통 코딩 테스트에서 출제되는 그리디 알고리즘 유형의 문제는 창의력, 즉 문제를 풀기 위한 최소한의 아이디어를 떠올릴 수 있는 능력을 요구한다."
   ]
  },
  {
   "cell_type": "markdown",
   "id": "e590325c",
   "metadata": {},
   "source": [
    "## 실전문제 2. 큰 수의 법칙"
   ]
  },
  {
   "cell_type": "code",
   "execution_count": 15,
   "id": "92a2c4a1",
   "metadata": {},
   "outputs": [
    {
     "name": "stdout",
     "output_type": "stream",
     "text": [
      "5 8 3\n",
      "2 4 5 4 6\n"
     ]
    }
   ],
   "source": [
    "N, M, K = map(int, input().split())\n",
    "data = list(map(int, input().split()))"
   ]
  },
  {
   "cell_type": "code",
   "execution_count": 16,
   "id": "29db987d",
   "metadata": {},
   "outputs": [
    {
     "data": {
      "text/plain": [
       "[2, 4, 5, 4, 6]"
      ]
     },
     "execution_count": 16,
     "metadata": {},
     "output_type": "execute_result"
    }
   ],
   "source": [
    "data"
   ]
  },
  {
   "cell_type": "code",
   "execution_count": 25,
   "id": "175fd54f",
   "metadata": {},
   "outputs": [],
   "source": [
    "data.sort(reverse = True)"
   ]
  },
  {
   "cell_type": "code",
   "execution_count": 27,
   "id": "a5d6169e",
   "metadata": {},
   "outputs": [
    {
     "data": {
      "text/plain": [
       "[6, 5, 4, 4, 2]"
      ]
     },
     "execution_count": 27,
     "metadata": {},
     "output_type": "execute_result"
    }
   ],
   "source": [
    "data"
   ]
  },
  {
   "cell_type": "code",
   "execution_count": 29,
   "id": "624c5985",
   "metadata": {},
   "outputs": [],
   "source": [
    "answer = []\n",
    "k = K\n",
    "\n",
    "for i in range(M):\n",
    "    if k == 0:\n",
    "        answer.append(data[1])\n",
    "        k = K\n",
    "    else:\n",
    "        answer.append(data[0])\n",
    "        k -= 1"
   ]
  },
  {
   "cell_type": "code",
   "execution_count": 33,
   "id": "9e0677cc",
   "metadata": {},
   "outputs": [
    {
     "name": "stdout",
     "output_type": "stream",
     "text": [
      "46\n"
     ]
    }
   ],
   "source": [
    "result = sum(answer)\n",
    "print(result)"
   ]
  },
  {
   "cell_type": "markdown",
   "id": "9417c74a",
   "metadata": {},
   "source": [
    "## 실전문제 3. 숫자 카드 게임"
   ]
  },
  {
   "cell_type": "code",
   "execution_count": 1,
   "id": "1a70beac",
   "metadata": {},
   "outputs": [
    {
     "name": "stdout",
     "output_type": "stream",
     "text": [
      "3 3\n"
     ]
    }
   ],
   "source": [
    "N, M = map(int, input().split())"
   ]
  },
  {
   "cell_type": "code",
   "execution_count": 3,
   "id": "c223e1ee",
   "metadata": {},
   "outputs": [
    {
     "name": "stdout",
     "output_type": "stream",
     "text": [
      "3 1 2\n",
      "4 1 4\n",
      "2 2 2\n"
     ]
    }
   ],
   "source": [
    "l = []\n",
    "for i in range(N):\n",
    "    data = list(map(int, input().split()))\n",
    "    l.append(min(data))\n",
    "answer = max(l)"
   ]
  },
  {
   "cell_type": "code",
   "execution_count": 4,
   "id": "21b55e00",
   "metadata": {},
   "outputs": [
    {
     "data": {
      "text/plain": [
       "2"
      ]
     },
     "execution_count": 4,
     "metadata": {},
     "output_type": "execute_result"
    }
   ],
   "source": [
    "answer"
   ]
  },
  {
   "cell_type": "markdown",
   "id": "25f6980d",
   "metadata": {},
   "source": [
    "## 실전문제 4. 1이 될 때까지"
   ]
  },
  {
   "cell_type": "code",
   "execution_count": 10,
   "id": "8bc06ccc",
   "metadata": {},
   "outputs": [
    {
     "name": "stdout",
     "output_type": "stream",
     "text": [
      "25 3\n"
     ]
    }
   ],
   "source": [
    "N, K = map(int, input().split())"
   ]
  },
  {
   "cell_type": "code",
   "execution_count": 11,
   "id": "f7bb7af2",
   "metadata": {},
   "outputs": [
    {
     "name": "stdout",
     "output_type": "stream",
     "text": [
      "6\n"
     ]
    }
   ],
   "source": [
    "i = 0\n",
    "n = N\n",
    "k = K\n",
    "\n",
    "while n != 1:\n",
    "    if n%k == 0:\n",
    "        n = n/k\n",
    "        i += 1\n",
    "    else:\n",
    "        n -= 1\n",
    "        i += 1\n",
    "\n",
    "result = i\n",
    "print(result)"
   ]
  }
 ],
 "metadata": {
  "kernelspec": {
   "display_name": "Python 3 (ipykernel)",
   "language": "python",
   "name": "python3"
  },
  "language_info": {
   "codemirror_mode": {
    "name": "ipython",
    "version": 3
   },
   "file_extension": ".py",
   "mimetype": "text/x-python",
   "name": "python",
   "nbconvert_exporter": "python",
   "pygments_lexer": "ipython3",
   "version": "3.9.13"
  }
 },
 "nbformat": 4,
 "nbformat_minor": 5
}
