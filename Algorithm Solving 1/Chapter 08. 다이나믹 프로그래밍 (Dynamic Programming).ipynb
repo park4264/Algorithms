{
 "cells": [
  {
   "cell_type": "markdown",
   "id": "5846d7e6",
   "metadata": {},
   "source": [
    "- 한 번 계산한 문제는 다시 계산하지 않도록 하는 알고리즘\n",
    "\n",
    "# 1. 다이나믹 프로그래밍\n",
    "## 1-1. 중복되는 연산을 줄이자.\n",
    "\n",
    "- 최적의 해를 구하기에 시간이 매우 많이 필요하거나 메모리 공간이 매우 많이 필요한 문제 등이 컴퓨터로도 해결하기 어려운 문제이다.\n",
    "- 그래서 우리는 연산 속도와 메모리 공간을 최대한으로 활용할 수 있는 효율적인 알고리즘을 작성해야 한다.\n",
    "\n",
    "- **다이나믹 프로그래밍 (Dynamic Programming), 동적계획법**: 메모리 공간을 약간 더 사용하면 연산 속도를 비약적으로 증가시킬 수 있는 방법.\n",
    "\n",
    "\n",
    "\n",
    "\n",
    "\n",
    "\n",
    "> - 다이나믹 프로그래밍의 기본적인 아이디어\n",
    "> - 다이나믹 프로그래밍의 2가지 방법 (탑다운, 보텀업)\n",
    "> - 다이나믹 프로그래밍을 위해 자주 사용되는 메모이제이션 기법\n",
    "\n",
    "\n",
    "- 피보나치 수열의 점화식을 재귀 함수를 사용해 만들 수 는 있지만, 단순히 매번 계산하도록 하면 문제를 효율적으로 해결할 수 없다.\n",
    "- 이러한 문제는 다이나믹 프로그래밍을 사용하면 효율적으로 해결할 수 있따.\n",
    "- 다이나믹 프로그래밍 사용 조건:\n",
    "    1. 큰 문제를 작은 문제로 나눌 수 있다.\n",
    "    2. 작은 문제에서 구한 정담은 그것을 포함하는 큰 문제에서도 동일하다.\n",
    "    \n",
    "\n",
    "- 이 문제를 메모이제이션(Memoization) 기법으로 해결해보자\n",
    "    - 메모이제이션은 다이나믹 프로그래밍을 구현하는 방법 중 한 종류\n",
    "    - 한 번 구한 결과를 메모리 공간에 메모해두고 같은 식을 다시 호출하면 메모한 결과를 그대로 가져오는 방법\n",
    "    - 메모이제이션은 값을 저장하는 방법이므로 캐싱(Caching)이라고도 한다.\n",
    "    "
   ]
  },
  {
   "cell_type": "code",
   "execution_count": 1,
   "id": "ebbfd0fa",
   "metadata": {},
   "outputs": [
    {
     "name": "stdout",
     "output_type": "stream",
     "text": [
      "218922995834555169026\n"
     ]
    }
   ],
   "source": [
    "# 피보나치 수열 소스코드(재귀적)\n",
    "\n",
    "d = [0] * 100 # 한 번 계산된 결과를 메모이제이션하기 위한 리스트 초기화\n",
    "\n",
    "# 피보나치 함수를 재귀함수로 구현 (탑다운 다이나믹 프로그래밍)\n",
    "\n",
    "def fibo(x):\n",
    "    if x ==1 or x == 2:\n",
    "        return 1\n",
    "    \n",
    "    # 이미 계산한 적 있는 문제라면 그대로 반환\n",
    "    if d[x] != 0:\n",
    "        return d[x]\n",
    "    \n",
    "    # 아직 계산하지 않은 문제라면 점화식에 따라서 피보나치 결과 반환\n",
    "    d[x] = fibo(x-1) + fibo(x-2)\n",
    "    return d[x]\n",
    "\n",
    "print(fibo(99))"
   ]
  },
  {
   "cell_type": "markdown",
   "id": "91189bb9",
   "metadata": {},
   "source": [
    "- 정리하자면 다이나믹 프로그래밍이란 큰 문제를 작게 나누고, 같은 문제라면 한 번씩만 풀어 문제를 효율적으로 해결하는 알고리즘\n",
    "- 이미 해결된 부분 문제에 대한 답을 저장해 놓고, 이 문제는 이미 해결이 됐던 것이니까 다시 해결할 필요가 없다고 반환\n",
    "\n",
    "\n",
    "- 다이나믹 프로그래밍을 적용했을 때 피보나치 수열 알고리즘의 시간 복잡도: $O(N)$\n",
    "- 이처럼 재귀함수를 이용하여 다인아믹 프로그래밍 소스코드를 작성하는 방법을, 큰 문제를 해결하기 위하여 작은 문제를 호출한다고 하여 **탑다운(Top-Down) 방식**이라고 한다.\n",
    "\n",
    "\n",
    "\n",
    "- 반면에 단순히 반복문을 이용하여 소스코드를 작성하는 경우 작은 문제부터 차근차근 답을 도출한다고하여 **보텀업(Bottom-up)** 방식이라 한다. \n",
    "- 피보나치 수열 문제를 아래에서 위로 올라가는 보텀업 방식으로 풀면 다음과 같다.\n"
   ]
  },
  {
   "cell_type": "code",
   "execution_count": 2,
   "id": "7fb61c7e",
   "metadata": {},
   "outputs": [
    {
     "name": "stdout",
     "output_type": "stream",
     "text": [
      "218922995834555169026\n"
     ]
    }
   ],
   "source": [
    "# 피보나치 수열 소스코드(반복적)\n",
    "\n",
    "\n",
    "d = [0] * 100\n",
    "\n",
    "d[1] = 1\n",
    "d[2] = 1\n",
    "n = 99\n",
    "\n",
    "# 피보나치 함수 반복문으로 구현(보텀업 다이나믹 프로그래밍)\n",
    "for i in range(3, n+1):\n",
    "    d[i] = d[i-1] + d[i-2]\n",
    "    \n",
    "print(d[n])\n"
   ]
  },
  {
   "cell_type": "markdown",
   "id": "38f6566b",
   "metadata": {},
   "source": [
    "> - 탑다운(메모이제이션) 방식은 '하향식'\n",
    "> - 보텀업 방식은 '상향식'\n",
    "\n",
    "\n",
    "- **다이나믹 프로그래밍의 전형적인 형태는 보텀업 방식**\n",
    "- 보텀업 방식에서 사용되는 결과 저장용 리스트: DP 테이블\n",
    "\n",
    "\n",
    "\n",
    "\n",
    "\n",
    "\n",
    "# 실전문제 1. 1로 만들기\n",
    "\n",
    "### 문제 설명\n",
    "\n",
    "- 정수 X가 주어질 때 정수 X에 사용할 수 있는 연산은 다음과 같이 4가지이다.\n",
    "    1. X가 5로 나누어떨어지면, 5로 나눈다.\n",
    "    2. X가 3으로 나누어떨어지면, 3으로 나눈다.\n",
    "    3. X가 2으로 나누어떨어지면, 2으로 나눈다.\n",
    "    4. X에서 1을 뺀다.\n",
    "    \n",
    "- 정수 X가 주어졌을 때, 연산 4개를 적절히 사용해서 1을 만들려고 한다.\n",
    "- 연산을 사용하는 횟수의 최솟값을 출력하시오\n",
    "\n",
    "### 문제 해설\n",
    "\n",
    "- 이 문제는 잘 알려진 다이나믹 프로그래밍 문제이다.\n"
   ]
  },
  {
   "cell_type": "code",
   "execution_count": 5,
   "id": "830ac614",
   "metadata": {},
   "outputs": [
    {
     "name": "stdout",
     "output_type": "stream",
     "text": [
      "26\n"
     ]
    }
   ],
   "source": [
    "# 정수 X를 입력하기\n",
    "x = int(input())\n",
    "\n",
    "# 앞서 계산된 결과를 저장하기 위한 DP 테이블 초기화\n",
    "d = [0] * 30001"
   ]
  },
  {
   "cell_type": "code",
   "execution_count": 6,
   "id": "e75e6973",
   "metadata": {},
   "outputs": [
    {
     "name": "stdout",
     "output_type": "stream",
     "text": [
      "3\n"
     ]
    }
   ],
   "source": [
    "# 다이나믹 프로그래밍진행(보텀업)\n",
    "\n",
    "for i in range(2, x+1):\n",
    "    \n",
    "    # 현재의 수에서 1을 뺴는 경우\n",
    "    d[i] = d[i-1] + 1\n",
    "    \n",
    "    #현재의 수가 2로 나누어 떨어지는 경우\n",
    "    if i%2 == 0:\n",
    "        d[i] = min(d[i], d[i//2] + 1)\n",
    "        \n",
    "    if i%3 == 0:\n",
    "        d[i] = min(d[i], d[i//3] + 1)\n",
    "    if i%5 == 0:\n",
    "        d[i] = min(d[i], d[i//5] +1)\n",
    "        \n",
    "print(d[x])\n",
    " "
   ]
  },
  {
   "cell_type": "markdown",
   "id": "57253ace",
   "metadata": {},
   "source": [
    "# 실전문제2. 개미 전사\n",
    "\n",
    "### 문제 설명\n",
    "\n",
    "- 개미 전사는 부족한 식량을 충당하려고 메뚜기 마을 창고를 공격\n",
    "- 메뚜기 마을의 여러 개의 식량창고는 일직선으로 이어져 있다.\n",
    "- 개미 전사가 정찰병에게 들키지 않고 식량창고를 약탈하기 위해서는 최소한 한 칸 이상 떨어진 식량창고를 약탈해야한다.\n",
    "- 개미 전사를 위해 식량창고 N개에 대한 정부가 주어졌을 때 얻을 수 있는 식량의 최댓값을 구하는 프로그램을 작성하시오\n",
    "\n",
    "### 문제 해설\n",
    "\n",
    "- `d[i]`의 값을 구할 때는 `d[i-1]`과 `d[i-2]`만 고려하면 된다.\n",
    "- 따라서 i번째 식량창고에 있는 식량의 양이 $k_i$라고 했을 때 점화식은 다음과 같다. $$a_i = \\max (a_{i-1}, a_{i-2} + k_i)$$"
   ]
  },
  {
   "cell_type": "code",
   "execution_count": 7,
   "id": "8d1c8134",
   "metadata": {},
   "outputs": [
    {
     "name": "stdout",
     "output_type": "stream",
     "text": [
      "4\n",
      "1 3 1 5\n"
     ]
    }
   ],
   "source": [
    "#정수 N을 입력받기\n",
    "n = int(input())\n",
    "#모든 식량 정보 입력받기\n",
    "array = list(map(int, input().split()))\n",
    "\n",
    "#앞서 계산된 결과를 저장하기 위한 DP 테이블 초기화\n",
    "d = [0] * 100"
   ]
  },
  {
   "cell_type": "code",
   "execution_count": 8,
   "id": "781e57ea",
   "metadata": {},
   "outputs": [
    {
     "name": "stdout",
     "output_type": "stream",
     "text": [
      "8\n"
     ]
    }
   ],
   "source": [
    "# 다이나믹 프로그래밍(Dynamic Programming) 진행(보텀업)\n",
    "\n",
    "d[0] = array[0]\n",
    "d[1] = max(array[0], array[1])\n",
    "for i in range(2, n):\n",
    "    d[i] = max(d[i-1], d[i-2] + array[i])\n",
    "    \n",
    "# 계산된 결과 출력\n",
    "print(d[n-1])"
   ]
  },
  {
   "cell_type": "markdown",
   "id": "f8ee7b68",
   "metadata": {},
   "source": [
    "# 실전문제3. 바닥 공사\n",
    "\n",
    "\n",
    "### 문제 설명\n",
    "- 가로의 길이가 N 세로의 길이가 2인 직사각형 형태의 얇은 바닥이 있다.\n",
    "- 태일이는 이 얇은 바닥을 1x2 덮개, 2x1 덮개, 2x2 덮개를 이용해 채우려고 한다. \n",
    "- 이떄 바닥을 채우는 모든 경우의 수를 구하는 프로그램을 작성하시오.\n",
    "\n",
    "### 문해 해설\n",
    "\n",
    "- 이 문제 또한 다이나믹 프로그래밍의 기초 예제에서 빠질 수 없는 타일링 문제이다.\n",
    "\n",
    "- 왼쪽부터 차례대로 바닥을 덮개로 채운다고 생각하면 어렵지 않게 점화식을 세울 수 있다.\n",
    "    1. 왼쪽부터 i-1까지 길이가 덮개로 이미 채워져 있으면 2x1의 덮개를 채우는 하나의 경우밖에 존재하지 않는다.\n",
    "    2. 왼쪽부터 i-2까지 길이가 덮개로 이미 채워져 있으면 1x2 덮개 2개를 넣는 경우, 혹은 2x2 덮개를 하나를 넣는 경우로 2가지 경우가 존재한다. (2x1 덮개 2개를 넣는 경우를 고려하지 않는 이유는 1에서 이미 했기 때문이다.)\n",
    "\n",
    "- 또한 이 문제 역시 i번째 위치에 대한 최적의 해를 구할 때 왼쪽부터 i-3번째 이하의 위치에 대한 최적의 해에 대해서는 고려할 필요가 없다. \n",
    "- 왜냐하면 사용할 수 있는 최대의 형태가 2x2 이므로\n",
    "- 따라서 다음과 같이 점화식을 세울 수 있다.\n",
    "\n",
    "$$a_i = a_{i-1} + a_{i-2}\\times 2$$\n",
    "\n"
   ]
  },
  {
   "cell_type": "code",
   "execution_count": 9,
   "id": "12121a44",
   "metadata": {},
   "outputs": [
    {
     "name": "stdout",
     "output_type": "stream",
     "text": [
      "3\n"
     ]
    }
   ],
   "source": [
    "# 답안 예시\n",
    "# 정수 N을 입력받기\n",
    "n = int(input())\n",
    "\n",
    "# 앞서 계산된 결과를 저장하기 위한 DP 테이블 초기화\n",
    "d = [0]*1001"
   ]
  },
  {
   "cell_type": "code",
   "execution_count": 10,
   "id": "0bc209f8",
   "metadata": {},
   "outputs": [
    {
     "name": "stdout",
     "output_type": "stream",
     "text": [
      "5\n"
     ]
    }
   ],
   "source": [
    "# 다이나믹 프로그래밍 진행(보텀업)\n",
    "\n",
    "d[1] = 1\n",
    "d[2] = 3\n",
    "\n",
    "for i in range(3, n+1):\n",
    "    d[i] = (d[i-1] + 2 * d[i-2]) % 796796\n",
    "    \n",
    "    \n",
    "print(d[n])"
   ]
  },
  {
   "cell_type": "markdown",
   "id": "e0457b28",
   "metadata": {},
   "source": [
    "# 실전문제 3. 효율적인 화폐 구성\n",
    "### 문제 설명\n",
    "- N 가지 종류의 화폐가 있다.\n",
    "- 이 화폐의 "
   ]
  },
  {
   "cell_type": "code",
   "execution_count": null,
   "id": "093c6e01",
   "metadata": {},
   "outputs": [],
   "source": []
  },
  {
   "cell_type": "code",
   "execution_count": null,
   "id": "81724bcb",
   "metadata": {},
   "outputs": [],
   "source": []
  },
  {
   "cell_type": "code",
   "execution_count": null,
   "id": "8868702e",
   "metadata": {},
   "outputs": [],
   "source": []
  },
  {
   "cell_type": "code",
   "execution_count": null,
   "id": "eed40385",
   "metadata": {},
   "outputs": [],
   "source": []
  },
  {
   "cell_type": "code",
   "execution_count": null,
   "id": "43debcf8",
   "metadata": {},
   "outputs": [],
   "source": []
  }
 ],
 "metadata": {
  "kernelspec": {
   "display_name": "Python 3 (ipykernel)",
   "language": "python",
   "name": "python3"
  },
  "language_info": {
   "codemirror_mode": {
    "name": "ipython",
    "version": 3
   },
   "file_extension": ".py",
   "mimetype": "text/x-python",
   "name": "python",
   "nbconvert_exporter": "python",
   "pygments_lexer": "ipython3",
   "version": "3.9.13"
  }
 },
 "nbformat": 4,
 "nbformat_minor": 5
}
