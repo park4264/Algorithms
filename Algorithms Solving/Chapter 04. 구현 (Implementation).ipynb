{
 "cells": [
  {
   "cell_type": "markdown",
   "id": "4ed1c0c8",
   "metadata": {},
   "source": [
    "# Chpater 4. 구현 (Implementation)\n",
    "\n",
    "- 코딩테스트에서 구현이란 머릿속에 있는 알고리즘을 소스코드롤 바꾸는 과정이다.\n",
    "- 구현하기 어려운 문제:\n",
    "    - 알고리즘은 간단한데 코드가 지나칠 만큼 길어지는 문제\n",
    "    - 특정 소수점 자리까지 출력해야 하는 문제\n",
    "    - 문자열이 입력으로 주어졌을 때 한 문자 단위로 끊어서 리스트에 넣어야하는 (파싱을 해야 하는) 문제 등\n",
    "\n",
    "- 이 책에서는 완전 탐색, 시뮬레이션 유형을 모두 '구현' 유형으로 묶어서 다루고 있다.\n",
    "    - 완전탐색: 모든 경우의 수를 주저 없이 다 계산하는 해결 방법\n",
    "    - 시뮬레이션: 문제에서 제시한 알고리즘을 한 단계씩 차례대로 직접 수행해야 하는 문제\n",
    "    \n",
    "### 파이썬에서 리스트 크기\n",
    "\n",
    "\n",
    "| 데이터의 개수(리스트 길이) | 메모리 사용량 |\n",
    "|---|---|\n",
    "| 1,000 | 약 4 KB |\n",
    "| 1,000,000 | 약 4 MB |\n",
    "| 10,000000 | 약 40 MB |\n",
    "\n",
    "-  일반적인 코딩 테스트 수준에서는 메모리 사용량 제한보다 더 적은 크기의 메모리를 사용해야 한다는 점 정도만 기억하면 된다.\n",
    "\n",
    "- 시간 제한이 1초이고, 데이터의 개수가 100만 개인 문제가 있다면 일반적으로 시간 복잡도 $O(N \\log N)$ 이내의 알고리즘을 이용하여 문제를 풀어야 한다"
   ]
  },
  {
   "cell_type": "markdown",
   "id": "01aedb9d",
   "metadata": {},
   "source": [
    "## 실전문제 1. 왕실의 나이트"
   ]
  },
  {
   "cell_type": "code",
   "execution_count": 27,
   "id": "386b51eb",
   "metadata": {},
   "outputs": [
    {
     "name": "stdout",
     "output_type": "stream",
     "text": [
      "a1\n"
     ]
    }
   ],
   "source": [
    "data = input()"
   ]
  },
  {
   "cell_type": "code",
   "execution_count": 28,
   "id": "ca259732",
   "metadata": {},
   "outputs": [
    {
     "data": {
      "text/plain": [
       "'a1'"
      ]
     },
     "execution_count": 28,
     "metadata": {},
     "output_type": "execute_result"
    }
   ],
   "source": [
    "data"
   ]
  },
  {
   "cell_type": "code",
   "execution_count": 29,
   "id": "f3f71a4e",
   "metadata": {},
   "outputs": [],
   "source": [
    "col = data[0]"
   ]
  },
  {
   "cell_type": "code",
   "execution_count": 30,
   "id": "80f5d0c9",
   "metadata": {},
   "outputs": [
    {
     "data": {
      "text/plain": [
       "'a'"
      ]
     },
     "execution_count": 30,
     "metadata": {},
     "output_type": "execute_result"
    }
   ],
   "source": [
    "col"
   ]
  },
  {
   "cell_type": "code",
   "execution_count": 31,
   "id": "5e8d4fbe",
   "metadata": {},
   "outputs": [],
   "source": [
    "row = data[1]"
   ]
  },
  {
   "cell_type": "code",
   "execution_count": 32,
   "id": "bfa45eb1",
   "metadata": {},
   "outputs": [
    {
     "data": {
      "text/plain": [
       "'1'"
      ]
     },
     "execution_count": 32,
     "metadata": {},
     "output_type": "execute_result"
    }
   ],
   "source": [
    "row"
   ]
  },
  {
   "cell_type": "code",
   "execution_count": 43,
   "id": "24cfcbb1",
   "metadata": {},
   "outputs": [],
   "source": [
    "all_set = []"
   ]
  },
  {
   "cell_type": "code",
   "execution_count": 44,
   "id": "c2f9d934",
   "metadata": {},
   "outputs": [],
   "source": [
    "col_set = ['a','b','c','d','e','f','g','h']\n",
    "row_set = ['1','2','3','4','5','6','7','8']\n",
    "\n",
    "for i in col_set:\n",
    "    for j in row_set:\n",
    "        all_set.append(i+j)\n",
    "    "
   ]
  },
  {
   "cell_type": "code",
   "execution_count": 48,
   "id": "45554b38",
   "metadata": {
    "scrolled": true
   },
   "outputs": [],
   "source": [
    "all_set = set(all_set)"
   ]
  },
  {
   "cell_type": "code",
   "execution_count": 37,
   "id": "18b6a642",
   "metadata": {},
   "outputs": [],
   "source": [
    "col_dict = {'a':1,'b':2,'c':3,'d':4,'e':5,'f':6,'g':7,'h':8}"
   ]
  },
  {
   "cell_type": "code",
   "execution_count": 21,
   "id": "3caf1740",
   "metadata": {},
   "outputs": [],
   "source": [
    "col_set2 = ['a-2','a-1','a','b','c','d','e','f','g','h','h+1','h+2']\n",
    "row_set2 = ['-1','0','1','2','3','4','5','6','7','8','9','10']"
   ]
  },
  {
   "cell_type": "code",
   "execution_count": 49,
   "id": "b4c10831",
   "metadata": {},
   "outputs": [],
   "source": [
    "result = []\n",
    "result.append(col_set2[col_set2.index(col) -2] + row_set2[row_set2.index(row) -1])\n",
    "result.append(col_set2[col_set2.index(col) -2] + row_set2[row_set2.index(row) +1])\n",
    "result.append(col_set2[col_set2.index(col) -1] + row_set2[row_set2.index(row) -2])\n",
    "result.append(col_set2[col_set2.index(col) -1] + row_set2[row_set2.index(row) +2])\n",
    "result.append(col_set2[col_set2.index(col) +1] + row_set2[row_set2.index(row) -2])\n",
    "result.append(col_set2[col_set2.index(col) +1] + row_set2[row_set2.index(row) +2])\n",
    "result.append(col_set2[col_set2.index(col) +2] + row_set2[row_set2.index(row) -1])\n",
    "result.append(col_set2[col_set2.index(col) +2] + row_set2[row_set2.index(row) +1])"
   ]
  },
  {
   "cell_type": "code",
   "execution_count": 51,
   "id": "15026230",
   "metadata": {},
   "outputs": [],
   "source": [
    "result = set(result)"
   ]
  },
  {
   "cell_type": "code",
   "execution_count": 52,
   "id": "c0fd4716",
   "metadata": {},
   "outputs": [
    {
     "data": {
      "text/plain": [
       "{'b3', 'c2'}"
      ]
     },
     "execution_count": 52,
     "metadata": {},
     "output_type": "execute_result"
    }
   ],
   "source": [
    "all_set&result"
   ]
  },
  {
   "cell_type": "code",
   "execution_count": 53,
   "id": "1c988dad",
   "metadata": {},
   "outputs": [
    {
     "name": "stdout",
     "output_type": "stream",
     "text": [
      "2\n"
     ]
    }
   ],
   "source": [
    "print(len(all_set&result)) ##solution ///"
   ]
  },
  {
   "cell_type": "markdown",
   "id": "80d12bc8",
   "metadata": {},
   "source": [
    "## 실전문제 2. 게임 개발"
   ]
  },
  {
   "cell_type": "code",
   "execution_count": 62,
   "id": "e9d077d3",
   "metadata": {},
   "outputs": [
    {
     "name": "stdout",
     "output_type": "stream",
     "text": [
      "4 4\n"
     ]
    }
   ],
   "source": [
    "N, M = map(int, input().split())"
   ]
  },
  {
   "cell_type": "code",
   "execution_count": 63,
   "id": "5d01864b",
   "metadata": {},
   "outputs": [
    {
     "name": "stdout",
     "output_type": "stream",
     "text": [
      "1 1 0\n"
     ]
    }
   ],
   "source": [
    "state = list(map(int, input().split()))"
   ]
  },
  {
   "cell_type": "code",
   "execution_count": 60,
   "id": "47ebd463",
   "metadata": {},
   "outputs": [],
   "source": [
    "all_map = []"
   ]
  },
  {
   "cell_type": "code",
   "execution_count": 61,
   "id": "bf91ef0b",
   "metadata": {},
   "outputs": [
    {
     "name": "stdout",
     "output_type": "stream",
     "text": [
      "1 1 1 1\n",
      "1 0 0 1\n",
      "1 1 0 1\n",
      "1 1 1 1\n"
     ]
    }
   ],
   "source": [
    "for i in range(N):\n",
    "    all_map.append( list(map(int, input().split())) )"
   ]
  },
  {
   "cell_type": "code",
   "execution_count": 58,
   "id": "869a32b1",
   "metadata": {},
   "outputs": [
    {
     "data": {
      "text/plain": [
       "1"
      ]
     },
     "execution_count": 58,
     "metadata": {},
     "output_type": "execute_result"
    }
   ],
   "source": [
    "all_map[0][1] # n x m"
   ]
  },
  {
   "cell_type": "code",
   "execution_count": 64,
   "id": "287ed06f",
   "metadata": {},
   "outputs": [],
   "source": [
    "state2 = state\n",
    "all_map2 = all_map"
   ]
  },
  {
   "cell_type": "code",
   "execution_count": 65,
   "id": "9b47f377",
   "metadata": {},
   "outputs": [],
   "source": [
    "state = state2\n",
    "all_map = all_map2"
   ]
  },
  {
   "cell_type": "code",
   "execution_count": 66,
   "id": "12d9a442",
   "metadata": {},
   "outputs": [],
   "source": [
    "position = all_map[ state[0] ][ state[1] ]"
   ]
  },
  {
   "cell_type": "code",
   "execution_count": 67,
   "id": "1c29ffff",
   "metadata": {},
   "outputs": [
    {
     "data": {
      "text/plain": [
       "0"
      ]
     },
     "execution_count": 67,
     "metadata": {},
     "output_type": "execute_result"
    }
   ],
   "source": [
    "position"
   ]
  },
  {
   "cell_type": "code",
   "execution_count": 68,
   "id": "cf990691",
   "metadata": {},
   "outputs": [
    {
     "data": {
      "text/plain": [
       "[1, 1, 0]"
      ]
     },
     "execution_count": 68,
     "metadata": {},
     "output_type": "execute_result"
    }
   ],
   "source": [
    "state"
   ]
  },
  {
   "cell_type": "code",
   "execution_count": 69,
   "id": "f7ed25b7",
   "metadata": {},
   "outputs": [
    {
     "data": {
      "text/plain": [
       "[[1, 1, 1, 1], [1, 0, 0, 1], [1, 1, 0, 1], [1, 1, 1, 1]]"
      ]
     },
     "execution_count": 69,
     "metadata": {},
     "output_type": "execute_result"
    }
   ],
   "source": [
    "all_map"
   ]
  },
  {
   "cell_type": "code",
   "execution_count": null,
   "id": "f97ca9ea",
   "metadata": {},
   "outputs": [],
   "source": []
  },
  {
   "cell_type": "code",
   "execution_count": 41,
   "id": "71fef887",
   "metadata": {},
   "outputs": [],
   "source": [
    "def go():\n",
    "    if state[2] == 0:\n",
    "        state[0] += 0\n",
    "        state[1] += 1\n",
    "    \n",
    "    elif state[2] == 3:\n",
    "        state[0] += (-1)\n",
    "        state[1] += 0\n",
    "    \n",
    "    elif state[2] == 2:\n",
    "        state[0] += 0\n",
    "        state[1] += (-1)\n",
    "        \n",
    "    elif state[2] == 1:\n",
    "        state[0] += 1\n",
    "        state[1] += 0"
   ]
  },
  {
   "cell_type": "code",
   "execution_count": 42,
   "id": "0e100f12",
   "metadata": {},
   "outputs": [],
   "source": [
    "def turn_left():\n",
    "     state[2] = (state[2] - 1)%4"
   ]
  },
  {
   "cell_type": "code",
   "execution_count": 43,
   "id": "5b60fe79",
   "metadata": {},
   "outputs": [],
   "source": [
    "def step_back():\n",
    "    if state[2] == 0:\n",
    "        state[0] -= 0\n",
    "        state[1] -= 1\n",
    "    \n",
    "    elif state[2] == 3:\n",
    "        state[0] -= (-1)\n",
    "        state[1] -= 0\n",
    "    \n",
    "    elif state[2] == 2:\n",
    "        state[0] -= 0\n",
    "        state[1] -= (-1)\n",
    "        \n",
    "    elif state[2] == 1:\n",
    "        state[0] -= 1\n",
    "        state[1] -= 0"
   ]
  },
  {
   "cell_type": "code",
   "execution_count": null,
   "id": "e1fedece",
   "metadata": {},
   "outputs": [],
   "source": []
  },
  {
   "cell_type": "code",
   "execution_count": 70,
   "id": "a6097aa8",
   "metadata": {
    "scrolled": true
   },
   "outputs": [
    {
     "name": "stdout",
     "output_type": "stream",
     "text": [
      "1\n",
      "1\n",
      "1\n",
      "0\n",
      "1\n",
      "2\n",
      "0\n"
     ]
    }
   ],
   "source": [
    "all_map[ state[0] ][ state[1] ]  = 2 # 육지를 밟으면 2가 됨 # 맨처음 있는 곳을 2로 바꿈\n",
    "\n",
    "while True:\n",
    "    pos_1 = all_map[ state[0] - 1][ state[1] ]\n",
    "    pos_2 = all_map[ state[0] ][ state[1] - 1]\n",
    "    pos_3 = all_map[ state[0] +1][ state[1] ]\n",
    "    pos_4 = all_map[ state[0] ][ state[1] +1]\n",
    "    \n",
    "    if pos_1*pos_2*pos_3*pos_4 != 0:\n",
    "        turn_left()\n",
    "        turn_left()\n",
    "        turn_left()\n",
    "        step_back()\n",
    "        if all_map[ state[0] ][ state[1] ] == 1: break\n",
    "        if all_map[ state[0] ][ state[1] ] == 0: continue\n",
    "      \n",
    "    \n",
    "    turn_left() # 왼쪽으로 돈다\n",
    "    go() # 앞으로 한 칸 간다\n",
    "    \n",
    "    position = all_map[ state[0] ][ state[1] ]\n",
    "    print(position)\n",
    "    \n",
    "    \n",
    "    # 앞으로 갔는데 바다일 경우\n",
    "    if position == 1: \n",
    "        step_back()\n",
    "        continue\n",
    "    \n",
    "    # 앞으로 갔는데 육지일 경우\n",
    "    if position == 0: \n",
    "        all_map[ state[0] ][ state[1] ] = 2 # 육지를 밟으면 2가 됨\n",
    "        continue\n",
    "        \n",
    "    if position == 2:\n",
    "        step_back()\n",
    "        continue\n",
    "        "
   ]
  },
  {
   "cell_type": "code",
   "execution_count": 71,
   "id": "888f65e9",
   "metadata": {},
   "outputs": [
    {
     "data": {
      "text/plain": [
       "[[1, 1, 1, 1], [1, 2, 2, 1], [1, 1, 2, 1], [1, 1, 1, 1]]"
      ]
     },
     "execution_count": 71,
     "metadata": {},
     "output_type": "execute_result"
    }
   ],
   "source": [
    "all_map"
   ]
  },
  {
   "cell_type": "code",
   "execution_count": 75,
   "id": "d56de306",
   "metadata": {},
   "outputs": [],
   "source": [
    "count = 0\n",
    "for i in all_map:\n",
    "    count += i.count(2)"
   ]
  },
  {
   "cell_type": "code",
   "execution_count": 76,
   "id": "7e6212f8",
   "metadata": {},
   "outputs": [
    {
     "name": "stdout",
     "output_type": "stream",
     "text": [
      "3\n"
     ]
    }
   ],
   "source": [
    "print(count)"
   ]
  },
  {
   "cell_type": "code",
   "execution_count": null,
   "id": "218eb8df",
   "metadata": {},
   "outputs": [],
   "source": []
  },
  {
   "cell_type": "code",
   "execution_count": null,
   "id": "0e4ec877",
   "metadata": {},
   "outputs": [],
   "source": []
  },
  {
   "cell_type": "code",
   "execution_count": null,
   "id": "840068db",
   "metadata": {},
   "outputs": [],
   "source": []
  },
  {
   "cell_type": "code",
   "execution_count": null,
   "id": "81bae556",
   "metadata": {},
   "outputs": [],
   "source": []
  },
  {
   "cell_type": "code",
   "execution_count": null,
   "id": "d48634c7",
   "metadata": {},
   "outputs": [],
   "source": []
  },
  {
   "cell_type": "code",
   "execution_count": null,
   "id": "c827c42e",
   "metadata": {},
   "outputs": [],
   "source": []
  },
  {
   "cell_type": "code",
   "execution_count": null,
   "id": "e27bf240",
   "metadata": {},
   "outputs": [],
   "source": []
  },
  {
   "cell_type": "code",
   "execution_count": null,
   "id": "6c703c52",
   "metadata": {},
   "outputs": [],
   "source": []
  },
  {
   "cell_type": "code",
   "execution_count": null,
   "id": "580ef87f",
   "metadata": {},
   "outputs": [],
   "source": []
  }
 ],
 "metadata": {
  "kernelspec": {
   "display_name": "Python 3 (ipykernel)",
   "language": "python",
   "name": "python3"
  },
  "language_info": {
   "codemirror_mode": {
    "name": "ipython",
    "version": 3
   },
   "file_extension": ".py",
   "mimetype": "text/x-python",
   "name": "python",
   "nbconvert_exporter": "python",
   "pygments_lexer": "ipython3",
   "version": "3.9.13"
  }
 },
 "nbformat": 4,
 "nbformat_minor": 5
}
