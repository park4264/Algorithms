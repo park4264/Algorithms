{
 "cells": [
  {
   "cell_type": "markdown",
   "id": "99eb1ab9",
   "metadata": {},
   "source": [
    "- 그래프를 **탐색**하기 위한 대표적인 두 가지 알고리즘\n",
    "\n",
    "#  1. 꼭 필요한 자료구조 기초\n",
    "\n",
    "- **탐색(Search)**: 많은 양의 데이터 중에서 원하는 데이터를 찾는 과정\n",
    "    - 프로그래밍에서는 그래프, 트리 등의 자료구조 안에서 탐색을 하는 문제를 자주 다룬다.\n",
    "    - 대표적인 탐색 알고리즘: DFS, BFS\n",
    "    \n",
    "- **자료구조(Data Structure)**: 데이터를 표현하고 관리하고 처리하기 위한 구조\n",
    "\n",
    "## 스택(Stack)\n",
    "\n",
    "- 선입후출 구조"
   ]
  },
  {
   "cell_type": "markdown",
   "id": "7c623308",
   "metadata": {},
   "source": [
    "## 큐(Queue)\n",
    "- 선입후출 구조"
   ]
  },
  {
   "cell_type": "code",
   "execution_count": 1,
   "id": "3390604b",
   "metadata": {},
   "outputs": [],
   "source": [
    "from collections import deque"
   ]
  },
  {
   "cell_type": "code",
   "execution_count": 2,
   "id": "f3cf41e5",
   "metadata": {},
   "outputs": [],
   "source": [
    "queue = deque()"
   ]
  },
  {
   "cell_type": "code",
   "execution_count": 3,
   "id": "3bd6abb8",
   "metadata": {},
   "outputs": [
    {
     "data": {
      "text/plain": [
       "2"
      ]
     },
     "execution_count": 3,
     "metadata": {},
     "output_type": "execute_result"
    }
   ],
   "source": [
    "queue.append(5)\n",
    "queue.append(2)\n",
    "queue.append(3)\n",
    "queue.popleft()\n",
    "queue.popleft()"
   ]
  },
  {
   "cell_type": "markdown",
   "id": "87e10032",
   "metadata": {},
   "source": [
    "## 재귀함수(Recursive Function)\n",
    "- 자기 자신을 다시 호출하는 함수\n",
    "\n",
    "\n",
    "# 2. 탐색 알고리즘 DFS / BFS\n",
    "\n",
    "## 2-1. 깊이 우선 탐색 (Depth-First Search, DFS)\n",
    "- 그래프의 깊은 부분을 우선적으로 탐색하는 알고리즘\n",
    "\n",
    "- 프로그래밍에서 그래프는 크게 2가지 방식으로 표현할 수 있다:\n",
    "    - 인접행렬(Adjacency Matrix): 2차원 배열로 그래프의 연결관계를 표현하는 방식\n",
    "    - 인접리스트(Adjacency List): 리스트로 그래프의 연결 관계를 표현하는 방식"
   ]
  },
  {
   "cell_type": "code",
   "execution_count": 5,
   "id": "fa19b54e",
   "metadata": {},
   "outputs": [
    {
     "name": "stdout",
     "output_type": "stream",
     "text": [
      "[[0, 7, 5], [7, 0, 999999999], [5, 999999999, 0]]\n"
     ]
    }
   ],
   "source": [
    "# 인접행렬방식 예제\n",
    "\n",
    "INF = 999999999 #무한의 비용 생성\n",
    "\n",
    "graph = [[0,7,5], [7,0,INF] , [5,INF,0]]\n",
    "\n",
    "print(graph)"
   ]
  },
  {
   "cell_type": "markdown",
   "id": "7f1da0ca",
   "metadata": {},
   "source": [
    "- 인접 리스트는 '연결 리스트'라는 자료구조를 이용해 구현\n",
    "- 파이썬으로 인접 리스트를 이용해 그래프를 표현하고자 할 때에도 단순히 2차원 리스트를 이용하면 된다."
   ]
  },
  {
   "cell_type": "code",
   "execution_count": 7,
   "id": "0a045a62",
   "metadata": {},
   "outputs": [
    {
     "name": "stdout",
     "output_type": "stream",
     "text": [
      "[[(1, 7), (2, 5)], [(0, 7)], [(0, 5)]]\n"
     ]
    }
   ],
   "source": [
    "# 예제 그래프를 인접 리스트 방식으로 처리할 때 데이터를 초기화한 코드\n",
    "\n",
    "## 인접리스트 방식 예제\n",
    "\n",
    "# 행(Row)이 3개인 2차원 리스트로 인접 리스트 표현\n",
    "graph = [[] for _ in range(3)]\n",
    "\n",
    "# 노드 0에 연결된 노드 정보 저장 (노드, 거리)\n",
    "graph[0].append((1, 7))\n",
    "graph[0].append((2, 5))\n",
    "\n",
    "# 노드 1에 연결된 노드 정보 저장 (노드, 거리)\n",
    "graph[1].append((0, 7))\n",
    "\n",
    "# 노드 2에 연결된 노드 정보 저장 (노드, 거리)\n",
    "graph[2].append((0, 5))\n",
    "\n",
    "print(graph)"
   ]
  },
  {
   "cell_type": "markdown",
   "id": "60c55063",
   "metadata": {},
   "source": [
    "\n",
    "\n",
    "- 인접 행렬 방식: \n",
    "    - 모든관계저장 -> 노드 개수 많을수록 메모리가 불필요하게 낭비\n",
    "    - 특정 두 노드 연결되어있는지 정보 얻는 속도 빠르다."
   ]
  },
  {
   "cell_type": "markdown",
   "id": "1e80af0d",
   "metadata": {},
   "source": [
    "## DFS 어떻게 동작?\n",
    "\n",
    "- 이 알고리즘은 특정한 경로로 탐색하다가 특정한 상황에서 최대한 깊숙이 들어가서 노드를 방문한 후, 다시 돌아가 다른 경로로 탐색하는 알고리즘\n",
    "\n",
    "### DFS는 스택 자료구조를 이용하며 구체적인 동작과정은 다음과 같다:\n",
    "> 1. 탐색 시작 노드를 스택에 삽입하고 방문처리를 한다.\n",
    "> 2. 스택의 최상단 노드에 방문하지 않은 인접 노드가 있으면 그 인접 노드를 스택에 넣고 방문 처리를 한다. 방문하지 않은 인접 노드가 없으면 스택에서 최상단 노드를 꺼낸다.\n",
    "> 3. 2번의 과정을 더 이상 수행할 수 없을 때까지 반복한다.\n",
    "\n",
    "- 노트의 탐색 순서 = 스택에 들어간 순서"
   ]
  },
  {
   "cell_type": "code",
   "execution_count": 8,
   "id": "65a6589d",
   "metadata": {},
   "outputs": [
    {
     "name": "stdout",
     "output_type": "stream",
     "text": [
      "1 2 7 6 8 3 4 5 "
     ]
    }
   ],
   "source": [
    "# DFS 예제\n",
    "\n",
    "# DFS 함수 정의\n",
    "def dfs(graph, v, visited):\n",
    "    # 현재 노드를 방문 처리\n",
    "    visited[v] = True\n",
    "    print(v, end=' ')\n",
    "    # 현재 노드와 연결된 다른 노드를 재귀적으로 방문\n",
    "    for i in graph[v]:\n",
    "        if not visited[i]:\n",
    "            dfs(graph, i, visited)\n",
    "\n",
    "# 각 노드가 연결된 정보를 리스트 자료형으로 표현(2차원 리스트)\n",
    "graph = [\n",
    "  [],\n",
    "  [2, 3, 8],\n",
    "  [1, 7],\n",
    "  [1, 4, 5],\n",
    "  [3, 5],\n",
    "  [3, 4],\n",
    "  [7],\n",
    "  [2, 6, 8],\n",
    "  [1, 7]\n",
    "]\n",
    "\n",
    "# 각 노드가 방문된 정보를 리스트 자료형으로 표현(1차원 리스트)\n",
    "visited = [False] * 9\n",
    "\n",
    "# 정의된 DFS 함수 호출\n",
    "dfs(graph, 1, visited)"
   ]
  },
  {
   "cell_type": "markdown",
   "id": "16c7a2e8",
   "metadata": {},
   "source": [
    "## 2-1. 너비 우선 탐색 (Breadth First Search, BFS)\n",
    "\n",
    "- 쉽게 말해 가까운 노드부터 탐색하는 알고리즘\n",
    "- **큐 자료구조를 이용**하는 것이 정석\n",
    "\n",
    "    1. 탐색 시작 노드를 큐에 삽입하고 방문처리를 한다.\n",
    "    2. 큐에서 노드를 꺼내 해당 노드의 인접 노드 중에서 방문하지 않은 노드를 모두 큐에 삽입하고 방문 처리를 한다.\n",
    "    3. 2번의 과정을 더 이상 수행할 수 없을 때까지 반복한다\n",
    "    \n",
    "    \n",
    "- BFS는 큐 자료구조에 기초한다는 점에서 구현이 간단\n",
    "- 실제 구현에는 `deque` 라이브러리를 사용하는 것이 좋다\n",
    "- 탐색을 수행함에 $O(N)$의 시간이 소요\n",
    "    - 코딩 테스트에서는 보통 DFS보다 BFS 구현이 조금 더 빠르게 동작"
   ]
  },
  {
   "cell_type": "code",
   "execution_count": 10,
   "id": "99a342c3",
   "metadata": {},
   "outputs": [
    {
     "name": "stdout",
     "output_type": "stream",
     "text": [
      "1 2 3 8 7 4 5 6 "
     ]
    }
   ],
   "source": [
    "from collections import deque\n",
    "\n",
    "# BFS 함수 정의\n",
    "def bfs(graph, start, visited):\n",
    "    # 큐(Queue) 구현을 위해 deque 라이브러리 사용\n",
    "    queue = deque([start])\n",
    "    \n",
    "    # 현재 노드를 방문 처리\n",
    "    visited[start] = True\n",
    "    \n",
    "    # 큐가 빌 때까지 반복\n",
    "    while queue:\n",
    "        # 큐에서 하나의 원소를 뽑아 출력\n",
    "        v = queue.popleft()\n",
    "        print(v, end=' ')\n",
    "        \n",
    "        # 해당 원소와 연결된, 아직 방문하지 않은 원소들을 큐에 삽입\n",
    "        for i in graph[v]:\n",
    "            if not visited[i]:\n",
    "                queue.append(i)\n",
    "                visited[i] = True\n",
    "\n",
    "# 각 노드가 연결된 정보를 리스트 자료형으로 표현(2차원 리스트)\n",
    "graph = [\n",
    "  [],\n",
    "  [2, 3, 8],\n",
    "  [1, 7],\n",
    "  [1, 4, 5],\n",
    "  [3, 5],\n",
    "  [3, 4],\n",
    "  [7],\n",
    "  [2, 6, 8],\n",
    "  [1, 7]\n",
    "]\n",
    "\n",
    "# 각 노드가 방문된 정보를 리스트 자료형으로 표현(1차원 리스트)\n",
    "visited = [False] * 9\n",
    "\n",
    "# 정의된 BFS 함수 호출\n",
    "bfs(graph, 1, visited)"
   ]
  },
  {
   "cell_type": "markdown",
   "id": "3b105737",
   "metadata": {},
   "source": [
    "\n",
    "- DFS, BFS 간단한 정리\n",
    "\n",
    "||**DFS**|**BFS**|\n",
    "|---|---|---|\n",
    "|**동작 원리**|스택|큐|\n",
    "|**구현 방법**|재귀 함수 이용|큐 자료구조 이용|\n",
    "\n",
    "- 코딩 테스트 중 2차원 배열에서의 탐색 문제를 만나면 이렇게 그래프 형태로 바꿔서 생각하면 풀이 방법을 조금 더 쉽게 떠올릴 수 있다."
   ]
  },
  {
   "cell_type": "markdown",
   "id": "c436c59c",
   "metadata": {},
   "source": [
    "# 실전문제 1. 음료수 얼려 먹기\n",
    "\n",
    "### 문제 설명\n",
    "\n",
    "- N x M 크기의 얼음 틀\n",
    "- 구멍 0, 칸막이 1\n",
    "- 구멍끼리 상하좌우로 붙어 있는 경우 서로 연결되어 있는 것으로 간주\n",
    "- 얼음 틀의 모양이 주어졌을 때 생성되는 총 아이스크림의 개수를 구하는 프로그램을 작성하시오.\n",
    "- 한 번에 만들 수 있는 아이스크림의 개수를 출력한다"
   ]
  },
  {
   "cell_type": "markdown",
   "id": "d9d09116",
   "metadata": {},
   "source": [
    "### 문제 해설\n",
    "\n",
    "- 얼음을 얼릴 수 있는 공간이 상하좌우로 연결되어 있다고 표현할 수 있으므로 그래프 형태로 모델링 할 수 있다.\n",
    "- 0의 묶음을 찾아주는 프로그램 어떻게 작성?\n",
    "    - DFS를 이용하면 간단히 해결할 수 있다.\n",
    "    \n",
    "> 1. 특정한 지점의 주변 상하좌우를 살펴본 뒤에 주변 지점 중에서 값이 0이면서 아직 방문하지 않은 지점이 있다면 해당 지점을 방문한다.\n",
    "> 2. 방문한 지점에서 다시 상하좌우를 살펴보면서 방문을 다시 진행하면, 연결된 모든 지점을 방문할 수 있다.\n",
    "> 3. 1~2번의 과정을 모든 노드에 반복하며 방문하지 않은 지점의 수를 센다.\n",
    "\n"
   ]
  },
  {
   "cell_type": "code",
   "execution_count": 21,
   "id": "692b16f6",
   "metadata": {},
   "outputs": [
    {
     "name": "stdout",
     "output_type": "stream",
     "text": [
      "4 5\n"
     ]
    }
   ],
   "source": [
    "# N M을 입력 받기\n",
    "N, M = map(int, input().split())"
   ]
  },
  {
   "cell_type": "code",
   "execution_count": 17,
   "id": "d8dcd621",
   "metadata": {},
   "outputs": [],
   "source": [
    "all_map = []"
   ]
  },
  {
   "cell_type": "code",
   "execution_count": 18,
   "id": "4f5439a8",
   "metadata": {},
   "outputs": [
    {
     "name": "stdout",
     "output_type": "stream",
     "text": [
      "0 0 1 1 0\n",
      "0 0 0 1 1\n",
      "1 1 1 1 1\n",
      "0 0 0 0 0\n"
     ]
    }
   ],
   "source": [
    "# 2차원 리스트의 맵 정보 입력받기\n",
    "for i in range(N):\n",
    "    all_map.append( list(map(int, input().split())) )"
   ]
  },
  {
   "cell_type": "code",
   "execution_count": 20,
   "id": "7e3436b4",
   "metadata": {},
   "outputs": [],
   "source": [
    "all_map2 = all_map"
   ]
  },
  {
   "cell_type": "code",
   "execution_count": 22,
   "id": "05e69594",
   "metadata": {},
   "outputs": [],
   "source": [
    "# DFS로 특정한 노드를 방문한 뒤에 연결된 모든 노드들도 방문\n",
    "\n",
    "def dfs(x, y):\n",
    "    # 주어진 범위를 벗어나는 경우에는 즉시 종료\n",
    "    if x <= -1 or x >= N or y <= -1 or y >= M:\n",
    "        return False\n",
    "    \n",
    "    # 현재 노드를 아직 방문하지 않았다면\n",
    "    if all_map[x][y] == 0:\n",
    "        # 해당 노드 방문 처리\n",
    "        all_map[x][y] = 1\n",
    "        \n",
    "        #상하좌우의 위치도 모두 재귀적으로 호출\n",
    "        dfs(x - 1, y)\n",
    "        dfs(x, y - 1)\n",
    "        dfs(x + 1, y)\n",
    "        dfs(x, y + 1)\n",
    "        \n",
    "        return True\n",
    "    return False\n",
    "    "
   ]
  },
  {
   "cell_type": "code",
   "execution_count": 23,
   "id": "233a6722",
   "metadata": {},
   "outputs": [
    {
     "name": "stdout",
     "output_type": "stream",
     "text": [
      "3\n"
     ]
    }
   ],
   "source": [
    "# 모든 노드(위치)에 대하여 음료수 채우기\n",
    "\n",
    "result = 0\n",
    "for i in range(N):\n",
    "    for j in range(M):\n",
    "        #현재 위치에서 DFS 수행\n",
    "        if dfs(i,j) == True:\n",
    "            result += 1\n",
    "            \n",
    "print(result) #정답 출력"
   ]
  },
  {
   "cell_type": "markdown",
   "id": "899227fe",
   "metadata": {},
   "source": [
    "# 실전문제 2. 미로 탈출\n",
    "\n",
    "### 문제 설명\n",
    "\n",
    "- 동빈이는 NxM 크기의 직사각형 형태의 미로에 갇혀 있다.\n",
    "- 미로에는 여러 마리의 괴물이 있어 이를 탈출해야 한다.\n",
    "- 동빈이의 위치는 (1,1)이고 미로의 출구는 (N, M)의 위치에 존재하며 한 번에 한 칸씩 이동할 수 있다.\n",
    "- 괴물0, 없으면1\n",
    "- 동빈이가 탈출하기 위해 움직여야 하는 최소 칸의 개수를 구하시오"
   ]
  },
  {
   "cell_type": "markdown",
   "id": "df750ec5",
   "metadata": {},
   "source": [
    "### 문제 해설\n",
    "\n",
    "- 이 문제는 BFS를 이용했을 때 매우 효과적으로 해결할 수 있다.\n",
    "    - BFS는 시작 지점에서 가까운 노드부터 차례대로 그래프의 모든 노드를 탐색하기 때문이다.\n",
    "    - 그러므로 (1,1) 지점에서부터 BFS를 수행하여 모든 노드의 값을 거리 정보로 넣으면 된다.\n",
    "    - 특정한 노드를 방문하면 그 이전 노드의 거리에 1을 더한 값을 리스트에 넣는다."
   ]
  },
  {
   "cell_type": "code",
   "execution_count": 24,
   "id": "7b1ceec0",
   "metadata": {},
   "outputs": [],
   "source": [
    "from collections import deque"
   ]
  },
  {
   "cell_type": "code",
   "execution_count": 25,
   "id": "8d3fba4f",
   "metadata": {},
   "outputs": [
    {
     "name": "stdout",
     "output_type": "stream",
     "text": [
      "5 6\n"
     ]
    }
   ],
   "source": [
    "# M, N을 공백으로 구분하여 입력받기\n",
    "n, m = map(int, input().split())"
   ]
  },
  {
   "cell_type": "code",
   "execution_count": 27,
   "id": "de3f030f",
   "metadata": {},
   "outputs": [
    {
     "name": "stdout",
     "output_type": "stream",
     "text": [
      "1 0 1 0 1 0\n",
      "1 1 1 1 1 1\n",
      "0 0 0 0 0 1 \n",
      "1 1 1 1 1 1\n",
      "1 1 1 1 1 1\n"
     ]
    }
   ],
   "source": [
    "# 2차원 리스트의 맵 정보 입력받기\n",
    "\n",
    "graph = []\n",
    "for i in range(n):\n",
    "    graph.append(list(map(int, input().split())))"
   ]
  },
  {
   "cell_type": "code",
   "execution_count": 28,
   "id": "a32ae659",
   "metadata": {},
   "outputs": [],
   "source": [
    "graph2 = graph"
   ]
  },
  {
   "cell_type": "code",
   "execution_count": 29,
   "id": "9f4b1a33",
   "metadata": {},
   "outputs": [],
   "source": [
    "# 이동할 네 방향 정의(상하좌우)\n",
    "dx = [-1, 1, 0, 0]\n",
    "dy = [0, 0, -1, 1]"
   ]
  },
  {
   "cell_type": "code",
   "execution_count": 30,
   "id": "31a1093c",
   "metadata": {},
   "outputs": [],
   "source": [
    "# BFS 소스코드 구현\n",
    "\n",
    "def bfs(x,y):\n",
    "    #큐(Queue) 구현을 위해 deque 라이브러리 사용\n",
    "    queue = deque()\n",
    "    queue.append((x,y))\n",
    "    \n",
    "    #큐가 빌 때까지 반복\n",
    "    while queue:\n",
    "        x,y = queue.popleft()\n",
    "        #현재 위치에서 네 방향으로의 위치 확인\n",
    "        for i in range(4):\n",
    "            nx = x + dx[i]\n",
    "            ny = y + dy[i]\n",
    "            \n",
    "            #미로 찾기 공간을 벗어난 경우 무시\n",
    "            if nx<0 or ny<0 or nx>=n or ny>=m:\n",
    "                continue\n",
    "                \n",
    "            #벽인 경우 무시\n",
    "            if graph[nx][ny] == 0:\n",
    "                continue\n",
    "            \n",
    "            # 해당 노드를 처음 방문하는 경우에만 최던 거리 기록\n",
    "            if graph[nx][ny] == 1:\n",
    "                graph[nx][ny] = graph[x][y] + 1\n",
    "                queue.append((nx,ny))\n",
    "                \n",
    "    return graph[n-1][m-1] #가장 오른쪽 아래까지의 최단 거리 반환"
   ]
  },
  {
   "cell_type": "code",
   "execution_count": 31,
   "id": "31f5bd0c",
   "metadata": {},
   "outputs": [
    {
     "name": "stdout",
     "output_type": "stream",
     "text": [
      "10\n"
     ]
    }
   ],
   "source": [
    "print(bfs(0, 0))"
   ]
  },
  {
   "cell_type": "code",
   "execution_count": 32,
   "id": "dd9c7429",
   "metadata": {},
   "outputs": [
    {
     "data": {
      "text/plain": [
       "[[3, 0, 5, 0, 7, 0],\n",
       " [2, 3, 4, 5, 6, 7],\n",
       " [0, 0, 0, 0, 0, 8],\n",
       " [14, 13, 12, 11, 10, 9],\n",
       " [15, 14, 13, 12, 11, 10]]"
      ]
     },
     "execution_count": 32,
     "metadata": {},
     "output_type": "execute_result"
    }
   ],
   "source": [
    "graph"
   ]
  },
  {
   "cell_type": "code",
   "execution_count": null,
   "id": "b74e7fad",
   "metadata": {},
   "outputs": [],
   "source": []
  },
  {
   "cell_type": "code",
   "execution_count": null,
   "id": "f2784070",
   "metadata": {},
   "outputs": [],
   "source": []
  }
 ],
 "metadata": {
  "kernelspec": {
   "display_name": "Python 3 (ipykernel)",
   "language": "python",
   "name": "python3"
  },
  "language_info": {
   "codemirror_mode": {
    "name": "ipython",
    "version": 3
   },
   "file_extension": ".py",
   "mimetype": "text/x-python",
   "name": "python",
   "nbconvert_exporter": "python",
   "pygments_lexer": "ipython3",
   "version": "3.9.13"
  }
 },
 "nbformat": 4,
 "nbformat_minor": 5
}
