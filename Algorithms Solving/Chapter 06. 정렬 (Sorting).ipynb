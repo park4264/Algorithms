{
 "cells": [
  {
   "cell_type": "markdown",
   "id": "5846d7e6",
   "metadata": {},
   "source": [
    "- 연속된 데이터를 기준에 따라서 정렬하기 위한 알고리즘\n",
    "\n",
    "# 1. 기준에 따라 데이터를 정렬\n",
    "## 1-1. 정렬 알고리즘 개요\n",
    "\n",
    "- **정렬 (Sorting)**: 데이터를 특정한 기준에 따라서 순서대로 나열하는 것\n",
    "- 정렬 알고리즘으로 데이터를 정렬하면 이진탐색(Binary Search)이 가능해진다.\n",
    "     - 정렬 알고리즘은 이진 탐색의 전처리 과정\n",
    "\n",
    "> - 정렬 알고리즘은 매우 다양\n",
    "> - 선택 정렬, 삽입 정렬, 퀵 정렬, 계수 정렬만 알아보자\n",
    "> - +파이썬에서 제공하는 기본 정렬 라이브러리를 적용하여 좀 더 효과적인 정렬 수행 방법도 알아보자\n",
    "\n",
    "- 정렬 알고리즘을 공부하다보면 자연스럽게 알고리즘 효율의 중요성을 알게된다.\n",
    "\n",
    "---\n",
    "\n",
    "## 1-2. 선택 정렬(Selection Sort)\n",
    "- 가장 작은 데이터를 선택해 맨 앞에 있는 데이터와 바꾸고 -> 그 다음 작은 데이터를 선택해 앞에서 두 번째 데이터와 바꾸는 과정을 반복한다면?\n"
   ]
  },
  {
   "cell_type": "code",
   "execution_count": 1,
   "id": "cf9e8a78",
   "metadata": {},
   "outputs": [
    {
     "name": "stdout",
     "output_type": "stream",
     "text": [
      "[0, 1, 2, 3, 4, 5, 6, 7, 8, 9]\n"
     ]
    }
   ],
   "source": [
    "#선택정렬 코드소스\n",
    "\n",
    "array = [7, 5, 9, 0, 3, 1, 6, 2, 4, 8]\n",
    "\n",
    "for i in range(len(array)):\n",
    "    min_index = i # 가장 작은 원소의 인덱스\n",
    "    for j in range(i + 1, len(array)):\n",
    "        if array[min_index] > array[j]:\n",
    "            min_index = j\n",
    "    array[i], array[min_index] = array[min_index], array[i] # 스와프\n",
    "\n",
    "print(array)"
   ]
  },
  {
   "cell_type": "markdown",
   "id": "fbc05fc7",
   "metadata": {},
   "source": [
    "### 선택정렬의 시간 복잡도\n",
    "\n",
    "- 선택정렬의 시간 복잡도: $O(N^2)$\n",
    "\n",
    "| 데이터의 개수(N) | 선택 정렬 | 퀵 정렬 | 기본 정렬 라이브러리 |\n",
    "|---|---|---|---|\n",
    "|N = 100|0.0123초|0.00156초|0.00000753초|\n",
    "|N = 1,000|0.354초|0.00343초|0.0000365초|\n",
    "|N = 10,000|15.475초|0.0312초|0.000248초|\n",
    "\n",
    "- 선택정렬은 기본 정렬 라이브러리를 포함해 뒤에서 다룰 알고리즘과 비교했을 때 매우 비효율적\n",
    "- 다만, 특정한 리스트에서 가장 작은 데이터를 찾는 일이 코딩 테스트에서 잦으므로 선택 정룔 소스코드 형태에 익숙해지면 좋다\n",
    "- 따라서 선택 정렬 소스코드를 자주 작성해보면 좋다.\n",
    "\n",
    "---\n",
    "\n",
    "## 1-3. 삽입 정렬 (Insertion Sort)\n",
    "\n",
    "- 데이터를 하나씩 확인하며, 각 데이터를 적절한 위치에 삽입하면 어떨까?\n",
    "- 삽입 정렬은 필요할 때만 위치를 바꾼다\n",
    "\n",
    "\n",
    "\n"
   ]
  },
  {
   "cell_type": "code",
   "execution_count": 2,
   "id": "b84f3b52",
   "metadata": {},
   "outputs": [
    {
     "name": "stdout",
     "output_type": "stream",
     "text": [
      "[0, 1, 2, 3, 4, 5, 6, 7, 8, 9]\n"
     ]
    }
   ],
   "source": [
    "# 삽입 정렬 소스코드\n",
    "array = [7, 5, 9, 0, 3, 1, 6, 2, 4, 8]\n",
    "\n",
    "for i in range(1, len(array)):\n",
    "    for j in range(i, 0, -1): # 인덱스 i부터 1까지 1씩 감소하며 반복하는 문법\n",
    "        if array[j] < array[j - 1]: # 한 칸씩 왼쪽으로 이동\n",
    "            array[j], array[j - 1] = array[j - 1], array[j]\n",
    "        else: # 자기보다 작은 데이터를 만나면 그 위치에서 멈춤\n",
    "            break\n",
    "\n",
    "print(array)"
   ]
  },
  {
   "cell_type": "markdown",
   "id": "57d591c4",
   "metadata": {},
   "source": [
    "### 삽입정렬의 시간 복잡도\n",
    "\n",
    "- 삽입정렬의 시간 복잡도: $O(N^2)$\n",
    "- 현재 리스트의 데이터가 거의 정렬되어 있는 상태라면 매우 빠르게 동작\n",
    "- 최선의 경우 $O(N)$의 시간 복잡도\n",
    "\n",
    "\n",
    "---\n",
    "\n",
    "## 1-4. 퀵 정렬 (Quick Sort)\n",
    "\n",
    "- 지금까지 배운 정렬 알고리즘 중에 가장 많이 사용되는 알고리즘.\n",
    "- 기준 데이터를 설정하고 그 기준보다 큰 데이터와 작은 데이터의 위치를 바꾸면 어떨까?\n",
    "- 퀵 정렬은 기준을 설정한 다음 큰 수와 작은 수를 교환한 후 리스트를 반으로 나누는 방식으로 동작\n",
    "\n",
    "\n",
    "- 피벗(Pivot): 큰 숫자와 작은 숫자를 교환할 때, 교환하기 위한 '기준'\n"
   ]
  },
  {
   "cell_type": "code",
   "execution_count": 5,
   "id": "11ea138b",
   "metadata": {},
   "outputs": [
    {
     "name": "stdout",
     "output_type": "stream",
     "text": [
      "[0, 1, 2, 3, 4, 5, 6, 7, 8, 9]\n"
     ]
    }
   ],
   "source": [
    "# 퀵 정렬 소스코드\n",
    "\n",
    "array = [5, 7, 9, 0, 3, 1, 6, 2, 4, 8]\n",
    "\n",
    "def quick_sort(array, start, end):\n",
    "    if start>=end: #원소가 1개인 경우 종료\n",
    "        return\n",
    "    \n",
    "    pivot = start #피벗은 첫 번째 원소\n",
    "    \n",
    "    left = start + 1\n",
    "    right = end\n",
    "    \n",
    "    while left <= right:\n",
    "        \n",
    "        #피벗보다 큰 데이터를 찾을 때까지 반복\n",
    "        while left <= end and array[left] <= array[pivot]:\n",
    "            left += 1\n",
    "        \n",
    "        #피벗보다 작은 데이터를 찾을 때까지 반복\n",
    "        while right > start and array[right] >= array[pivot]:\n",
    "            right -= 1\n",
    "            \n",
    "        if left>right: #엇갈렸다면 작은 데이터와 피벗을 교체\n",
    "            array[right], array[pivot] = array[pivot], array[right]\n",
    "        \n",
    "        else: #엇갈리지 않았다면 작은 데이터와 큰 데이터를 교체\n",
    "            array[left], array[right] = array[right], array[left]\n",
    "            \n",
    "        # 분할 이후 왼쪽 부분과 오른쪽 부분에서 각각 정렬 수행\n",
    "        quick_sort(array, start, right - 1)\n",
    "        quick_sort(array, right + 1, end)\n",
    "        \n",
    "        \n",
    "quick_sort(array, 0, len(array) - 1)\n",
    "print(array)\n",
    "    "
   ]
  },
  {
   "cell_type": "code",
   "execution_count": 6,
   "id": "d47da4ac",
   "metadata": {},
   "outputs": [
    {
     "name": "stdout",
     "output_type": "stream",
     "text": [
      "[0, 1, 2, 3, 4, 5, 6, 7, 8, 9]\n"
     ]
    }
   ],
   "source": [
    "# 파이썬의 장점을 살린 퀵 정렬 소스코드\n",
    "\n",
    "array = [5, 7, 9, 0, 3, 1, 6, 2, 4, 8]\n",
    "\n",
    "def quick_sort(array):\n",
    "    \n",
    "    #리스트가 하나 이하의 원소만을 담고 있다면 종료\n",
    "    if len(array) <= 1:\n",
    "        return array\n",
    "    \n",
    "    pivot = array[0] # 피벗은 첫 번째 원소\n",
    "    tail = array[1:] # 피벗을 제외한 리스트\n",
    "    \n",
    "    left_side = [x for x in tail if x<=pivot] # 분할된 왼쪽 부분\n",
    "    right_side = [x for x in tail if x>pivot] # 분할된 오른쪽 부분\n",
    "    \n",
    "    return quick_sort(left_side) + [pivot] + quick_sort(right_side)\n",
    "\n",
    "\n",
    "print(quick_sort(array))"
   ]
  },
  {
   "cell_type": "markdown",
   "id": "0efc05dd",
   "metadata": {},
   "source": [
    "### 퀵 정렬의 시간 복잡도\n",
    "\n",
    "- 퀵 정렬의 평균 시간 복잡도는 $O(N\\log N)$\n",
    "- 앞의 두 정렬 알고리즘에 비해 매우 빠른 편\n",
    "\n",
    "\n",
    "|데이터의 개수(N)| $N^2$ (선택정렬, 삽입정렬)| Nlog_2(N) (퀵정렬)|\n",
    "|---|---|---|\n",
    "|N = 1,000| 약 1,000,000| 약 10,000|\n",
    "|N = 1,000,000| 약 1,000,000,000,000| 약 20,000,000|\n",
    "\n",
    "---\n",
    "\n",
    "## 1-5 계수 정렬(Count Sort)\n",
    "- 특정한 조건이 부합할 때만 사용할 수 있지만 매우 빠른 정렬 알고리즘\n",
    "- 모든 데이터가 양의 정수이면\n",
    "    - 데이터의 개수가 N, 데이터 중 최댓값이 K일 때, 계수 정렬은 최악의 경우에도 수행시간 $O(N+K)$를 보장.\n",
    "- 계수 정렬은 데이터의 크기 범위가 제한되어 정수 형태로 표현할 수 있을 때만 사용 가능\n",
    "- 일반적으로 가증 큰 데이터와 가장 작은 데이터의 차이가 1,000,000을 넘지 않을 때 효과적\n",
    "\n",
    "\n",
    "- 계수 정렬을 이용할 때는 모든 범위를 담을 수 있는 크기의 리스트(배열)을 선언해야 함."
   ]
  },
  {
   "cell_type": "code",
   "execution_count": 8,
   "id": "dba08a8e",
   "metadata": {},
   "outputs": [
    {
     "name": "stdout",
     "output_type": "stream",
     "text": [
      "0 0 1 1 2 2 3 4 5 5 6 7 8 9 9 "
     ]
    }
   ],
   "source": [
    "# 계수 정렬 소스코드\n",
    "\n",
    "# 모든 원소의 값이 0보다 크거나 같다고 가정\n",
    "array = [7, 5, 9, 0, 3, 1, 6, 2, 9, 1, 4, 8, 0, 5, 2]\n",
    "\n",
    "# 모든 범위를 포함하는 리스트 선언(모든 값은 0으로 초기화)\n",
    "count = [0] * (max(array) + 1)\n",
    "\n",
    "\n",
    "for i in range(len(array)):\n",
    "    count[array[i]] += 1\n",
    "    \n",
    "for i in range(len(count)):\n",
    "    for j in range(count[i]):\n",
    "        print(i, end = ' ')"
   ]
  },
  {
   "cell_type": "markdown",
   "id": "e74596a1",
   "metadata": {},
   "source": [
    "### 계수 정렬의 시간 복잡도\n",
    "\n",
    "- 계수 정렬의 시간 복잡도는 $O(N + K)$이다.\n",
    "\n",
    "### 계수 정렬의 공간 복잡도\n",
    "- 계수 정렬은 데이터의 크기가 한정되어 있고, 데이터의 크기가 많이 중복되어 있을수록 유리하며 항상 사요할 수 없다.\n",
    "\n",
    "- 조건만 만족한다면 계수 정렬은 정렬해야 하는 데이터의 개수가 매우 많을 때에도 효과적으로 사용할 수 있다.\n",
    "- 계수 정렬의 공간 복잡도는 $O(N+K)$이다.\n",
    "\n",
    "---\n",
    "\n",
    "## 1-6. 파이썬의 정렬 라이브러리\n",
    "\n",
    "- 정렬 알고리즘은 매우 많이 연구된 주제\n",
    "- 정렬 알고리즘 문제는 어느 정도 정해진 답이 있다.\n",
    "\n",
    "\n",
    "- 파이썬은 기본 정렬 라이브러리인 `sorted()` 함수를 제공한다.\n",
    "- `sorted()`는 퀵 정렬과 동작 방식이 비슷한 병합 정렬을 기반으로 만들어짐\n",
    "- 병합 정렬은 일반적으로 퀵 정렬보다 느리지만 최악의 경우에도 시간 복잡도 $O(N \\log N)$을 보장한다는 특징이 있다.\n",
    "\n",
    "\n"
   ]
  },
  {
   "cell_type": "code",
   "execution_count": 9,
   "id": "3343aafb",
   "metadata": {},
   "outputs": [
    {
     "name": "stdout",
     "output_type": "stream",
     "text": [
      "[0, 1, 2, 3, 4, 5, 6, 7, 8, 9]\n"
     ]
    }
   ],
   "source": [
    "# sorted 소스코드\n",
    "\n",
    "array = [7, 5, 9, 0, 3, 1, 6, 2, 4, 8]\n",
    "\n",
    "result = sorted(array)\n",
    "print(result)"
   ]
  },
  {
   "cell_type": "code",
   "execution_count": 10,
   "id": "88d0be3b",
   "metadata": {},
   "outputs": [
    {
     "name": "stdout",
     "output_type": "stream",
     "text": [
      "[0, 1, 2, 3, 4, 5, 6, 7, 8, 9]\n"
     ]
    }
   ],
   "source": [
    "# sort 소스코드\n",
    "\n",
    "array = [7, 5, 9, 0, 3, 1, 6, 2, 4, 8]\n",
    "\n",
    "array.sort()\n",
    "print(array)"
   ]
  },
  {
   "cell_type": "code",
   "execution_count": 11,
   "id": "69408b4d",
   "metadata": {},
   "outputs": [
    {
     "name": "stdout",
     "output_type": "stream",
     "text": [
      "[('바나나', 2), ('당근', 3), ('사과', 5)]\n"
     ]
    }
   ],
   "source": [
    "# 정렬 라이브러리에서 key를 활용한 소스코드\n",
    "\n",
    "array = [('바나나', 2), ('사과', 5), ('당근', 3)]\n",
    "\n",
    "def setting(data):\n",
    "    return data[1]\n",
    "\n",
    "result = sorted(array, key=setting)\n",
    "print(result)"
   ]
  },
  {
   "cell_type": "markdown",
   "id": "45649843",
   "metadata": {},
   "source": [
    "### 정렬 라이브러리의 시간 복잡도\n",
    "\n",
    "- 정렬 라이브러리는 항상 최악의 경우에도 시간 복잡도 $O(N \\log N)$을 보장한다.\n",
    "- 파이썬은 병합 정렬에 기반한다고 했는데 정확히는 병합 정렬과 삽입 정렬의 아이디어를 더한 하이브리드 방식의 정렬 알고리즘을 사용하고있다.\n",
    "\n",
    "\n",
    "- 코딩 테스트에서 정렬 알고리즘이 사용되는 경우를 일반적으로 3가지 유형으로 나타낼 수 있다.\n",
    "\n",
    "> **1. 정렬 라이브러리로 풀 수 있는 문제**\n",
    "    > - 단순히 정렬 기법을 알고 있는지 물어보는 문제로 기본 정렬 라이브러리의 사용 방법을 숙지하고 있으면 어렵지 않게 풀 수 있다.\n",
    "    \n",
    "> **2. 정렬 알고리즘의 원리에 대해서 물어보는 문제**\n",
    "    > - 선택정렬, 삽입정렬, 퀵정렬 등의 원리를 알고 있어야 문제를 풀 수 있다.\n",
    "    \n",
    "> **3. 더 빠른 정렬이 필요한 문제**\n",
    "    > - 퀵 정렬 기반의 정렬 기법으로는 풀 수 없으며 계수 정렬 등의 다른 정렬 알고리즘을 이용하거나 문제에서 기존에 알려진 알고리즘의 구조적인 개선을 거쳐야 풀 수 있다.\n"
   ]
  },
  {
   "cell_type": "markdown",
   "id": "da31d4d6",
   "metadata": {},
   "source": [
    "# 실전문제 1. 위에서 아래로\n",
    "\n",
    "### 문제설명\n",
    "\n",
    "- 입력으로 주어진 수열이 내림차순으로 정렬된 결과를 공백으로 구분하여 출력\n",
    "\n",
    "\n",
    "### 문제 해설\n",
    "\n",
    "- 수의 개수가 500개 이하로 매우 적으며, 모든 수는 1 이상 100,000 이하이므로 어떠한 정렬 알고리즘을 사용해도 문제를 해결할 수 있다.\n",
    "- 가장 코드가 간결해지는 파이썬의 기본 정렬 라이브러리를 이용하는 것이 효과적"
   ]
  },
  {
   "cell_type": "code",
   "execution_count": 12,
   "id": "d97f088b",
   "metadata": {},
   "outputs": [
    {
     "name": "stdout",
     "output_type": "stream",
     "text": [
      "3\n"
     ]
    }
   ],
   "source": [
    "#N을 입력받기\n",
    "n = int(input())"
   ]
  },
  {
   "cell_type": "code",
   "execution_count": 13,
   "id": "12a5ef64",
   "metadata": {},
   "outputs": [
    {
     "name": "stdout",
     "output_type": "stream",
     "text": [
      "15\n",
      "27\n",
      "12\n"
     ]
    }
   ],
   "source": [
    "# N개의 정수를 입력받아 리스트에 저장\n",
    "array = []\n",
    "for i in range(n):\n",
    "    array.append(int(input()))"
   ]
  },
  {
   "cell_type": "code",
   "execution_count": 15,
   "id": "7b27f58c",
   "metadata": {},
   "outputs": [],
   "source": [
    "# 파이썬 기본 정렬 라이브러리를 이용하여 정렬 수행\n",
    "array = sorted(array, reverse = True)"
   ]
  },
  {
   "cell_type": "code",
   "execution_count": 16,
   "id": "e0902fe8",
   "metadata": {},
   "outputs": [
    {
     "name": "stdout",
     "output_type": "stream",
     "text": [
      "27 15 12 "
     ]
    }
   ],
   "source": [
    "#정렬이 수행된 결과를 출력\n",
    "for i in array:\n",
    "    print(i, end= \" \")"
   ]
  },
  {
   "cell_type": "markdown",
   "id": "efc4d308",
   "metadata": {},
   "source": [
    "# 실전문제 2. 성적이 낮은 순서로 학생 출력하기\n",
    "\n",
    "### 문제설명\n",
    "\n",
    "- N명의 학생 정보가 있다. 학생 정보는 학생의 이름과 학생의 성적으로 구분\n",
    "- 각 학생의 이름과 성적 정보가 주어졌을 때 성적이 낮은 순서대로 학생의 이름을 출력하시오\n",
    "\n",
    "\n",
    "### 문제해설\n",
    "\n",
    "- 이 문제에서는 학생의 정보가 최대 100,000개까지 입력될 수 있으므로 최악의 경우 $O(N \\log N)$을 보장하는 알고리즘을 이용하거나 $O(N)$을 보장하는 계수 정렬을 이용하면 된다.\n",
    "\n"
   ]
  },
  {
   "cell_type": "code",
   "execution_count": 17,
   "id": "2a1bf19e",
   "metadata": {},
   "outputs": [
    {
     "name": "stdout",
     "output_type": "stream",
     "text": [
      "2\n"
     ]
    }
   ],
   "source": [
    "# N을 입력 받기\n",
    "\n",
    "n = int(input())"
   ]
  },
  {
   "cell_type": "code",
   "execution_count": 18,
   "id": "2ffef4e9",
   "metadata": {},
   "outputs": [
    {
     "name": "stdout",
     "output_type": "stream",
     "text": [
      "홍길동 95\n",
      "이순신 77\n"
     ]
    }
   ],
   "source": [
    "array = []\n",
    "for i in range(n):\n",
    "    input_data = input().split()\n",
    "    \n",
    "    # 이름은 문자열 그대로, 점수는 정수형으로 변환하여 저장\n",
    "    array.append((input_data[0], int(input_data[1])))\n",
    "    \n"
   ]
  },
  {
   "cell_type": "code",
   "execution_count": 19,
   "id": "551a1267",
   "metadata": {},
   "outputs": [],
   "source": [
    "# 키(Key)를 이용하여, 점수를 기준으로 정렬 ##############################\n",
    "array = sorted(array, key = lambda student:student[1])"
   ]
  },
  {
   "cell_type": "code",
   "execution_count": 20,
   "id": "316ab5c3",
   "metadata": {},
   "outputs": [
    {
     "data": {
      "text/plain": [
       "[('이순신', 77), ('홍길동', 95)]"
      ]
     },
     "execution_count": 20,
     "metadata": {},
     "output_type": "execute_result"
    }
   ],
   "source": [
    "array"
   ]
  },
  {
   "cell_type": "code",
   "execution_count": 21,
   "id": "713523bd",
   "metadata": {},
   "outputs": [
    {
     "name": "stdout",
     "output_type": "stream",
     "text": [
      "이순신 홍길동 "
     ]
    }
   ],
   "source": [
    "for student in array:\n",
    "    print(student[0], end = ' ')"
   ]
  },
  {
   "cell_type": "markdown",
   "id": "ba3d4906",
   "metadata": {},
   "source": [
    "# 실전문제 3. 두 배열의 원소 교체\n",
    "\n",
    "### 문제설명\n",
    "\n",
    "- 동빈이는 두 개의 배열 A와 B를 가지고 있다.\n",
    "- 두 배열은 N개의 원소, 모두 자연수\n",
    "- 최대 K개 A, B 바꿔치기 할 수 있다.\n",
    "- 목표는 배열 A의 모든 원소의 합이 최대가 되도록 하는 것이다.\n",
    "\n",
    "### 문제해설\n",
    "\n",
    "- 문제 해결 기본 아이디어는 매번 배열 A에서 가장 작은 원소를 골라서, 배열 B에서 가장 큰 원소와 교체를 하는 것이다.\n",
    "- 단, 배열 A에서 가장 작은 원소가 배열 B에서 가장 큰 원소보다 작을 떄에만 교체를 수행해야 함.\n",
    "- 따라서 배열 A, B 정보가 입력되면 배열 A의 원소를 오름차순, 배열 B를 내림차순으로 정렬한다.\n",
    "- 그리고 두 배열의 원소를 가장 첫 번째 인덱스부터 A가 작을 때 교체한다.\n",
    "- 두 배열의 원소가 최대 100,000개까지 입력될 수 있으므로 $O(N \\log N)$을 보장하는 정렬 알고리즘을 이용해야 한다."
   ]
  },
  {
   "cell_type": "code",
   "execution_count": 22,
   "id": "966a2a74",
   "metadata": {},
   "outputs": [
    {
     "name": "stdout",
     "output_type": "stream",
     "text": [
      "5 3\n",
      "1 2 5 4 3\n",
      "5 5 6 6 5\n"
     ]
    }
   ],
   "source": [
    "n, k = map(int, input().split())\n",
    "a = list(map(int, input().split()))\n",
    "b = list(map(int, input().split()))"
   ]
  },
  {
   "cell_type": "code",
   "execution_count": 23,
   "id": "df804d7c",
   "metadata": {},
   "outputs": [],
   "source": [
    "a.sort() # 배열 A는 오름차순\n",
    "b.sort(reverse = True) # 배열 B는 내림차순"
   ]
  },
  {
   "cell_type": "code",
   "execution_count": 24,
   "id": "5b47db19",
   "metadata": {},
   "outputs": [],
   "source": [
    "for i in range(k):\n",
    "    if a[i] < b[i]:\n",
    "        a[i], b[i] = b[i], a[i]\n",
    "    else:\n",
    "        break;"
   ]
  },
  {
   "cell_type": "code",
   "execution_count": 25,
   "id": "ac39f071",
   "metadata": {},
   "outputs": [
    {
     "name": "stdout",
     "output_type": "stream",
     "text": [
      "26\n"
     ]
    }
   ],
   "source": [
    "print(sum(a))"
   ]
  }
 ],
 "metadata": {
  "kernelspec": {
   "display_name": "Python 3 (ipykernel)",
   "language": "python",
   "name": "python3"
  },
  "language_info": {
   "codemirror_mode": {
    "name": "ipython",
    "version": 3
   },
   "file_extension": ".py",
   "mimetype": "text/x-python",
   "name": "python",
   "nbconvert_exporter": "python",
   "pygments_lexer": "ipython3",
   "version": "3.9.13"
  }
 },
 "nbformat": 4,
 "nbformat_minor": 5
}
