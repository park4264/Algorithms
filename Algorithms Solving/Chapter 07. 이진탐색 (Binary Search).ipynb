{
 "cells": [
  {
   "cell_type": "markdown",
   "id": "5846d7e6",
   "metadata": {},
   "source": [
    "- 탐색 범위를 반으로 좁혀가며 빠르게 탐색하는 알고리즘\n",
    "\n",
    "# 1. 범위를 반씩 좁혀가는 탐색\n",
    "## 1-1. 순차 탐색\n",
    "\n",
    "- 이진탐색에 대해 알아보기 전에 가장 기본 탐색 방법인 순차 탐색에 대해 먼저 이해해보자.\n",
    "- **순차탐색(Sequential Search):** 리스트 안에 있는 특정한 데이터를 찾기 위해 앞에서부터 데이터를 하나씩 차례대로 확인하는 방법\n",
    "    - 보통 정렬되지 않은 리스트에서 데이터를 찾아야 할 때 사용\n",
    "    - 리스트 내에 데이터가 아무리 많아도 시간만 충분하면 항상 원하는 원소를 찾을 수 있다.\n",
    "    \n",
    "- 리스트 자료형에서 특정한 값을 가지는 원소의 개수를 세는 `count()` 메서드도 내부에서는 순차 탐색이 수행됨\n",
    "- 데이터의 개수가 N개일 때 최대 N번의 비교 연산이 필요하므로 순차 탐색의 최악의 경우, 시간 복잡도는 $O(N)$이다.\n",
    "\n",
    "## 1-2. 이진 탐색: 반으로 쪼개면서 탐색하기\n",
    "\n",
    "- **이진 탐색(Binary Search)**: 탐색하려 하는 범위의 시작점, 끝점, 중간점에서 중간점 위치에 있는 데이터를 반복적으로 비교해서 원하는 데이터를 찾는 과정\n",
    "\n",
    "    - 배열 내부의 데이터가 정렬되어 있어야만 사용할 수 있는 알고리즘\n",
    "    - 탐색 범위를 절반씩 좁혀가며 데이터를 탐색하는 특징\n",
    "\n",
    "- 이진 탐색은 한 번 확인할 때마다 확인하는 원소의 개수가 절반씩 줄어든다는 점에서 시간 복잡도가 $O(\\log N)$이다.\n",
    "\n"
   ]
  },
  {
   "cell_type": "code",
   "execution_count": 2,
   "id": "86e0c4f3",
   "metadata": {},
   "outputs": [],
   "source": [
    "# 반복문으로 구현한 이진 탐색 소스코드\n",
    "\n",
    "def binary_search(array, target, start, end):\n",
    "    while start <= end:\n",
    "        mid = (start + end) // 2 #찾은 경우 중간점 인덱스 반환\n",
    "        \n",
    "        if array[mid] == target:\n",
    "            return mid\n",
    "        \n",
    "        elif array[mid] > target: # 중간점의 값보다 찾으려는 값이 작은 경우 왼쪽 확인 \n",
    "            end = mid - 1\n",
    "            \n",
    "        else: # 중간점의 값보다 찾으려는 값이 큰 경우 오른쪽 확인 \n",
    "            start = mid + 1\n",
    "    \n",
    "    return None    "
   ]
  },
  {
   "cell_type": "markdown",
   "id": "1d517bcf",
   "metadata": {},
   "source": [
    "### 코딩 테스트에서의 이진 탐색\n",
    "\n",
    "- 이진 탐색은 코딩 테스트에서 단골로 나오는 문제이니 가급적 외우자\n",
    "- ☆처리해야 할 데이터의 개수나 값이 10,000,000 (천만) 단위 이상으로 넘어가면 이진 탐색과 같이 $O(\\log N)$의 속도를 내야 하는 알고리즘을 떠올려야 문제를 풀 수 있는 경우가 많다는 점을 기억하자\n",
    "\n",
    "\n",
    "\n",
    "\n",
    "\n",
    "\n",
    "## 1-3. 트리 자료구조\n",
    "\n",
    "- 이진 탐색은 전제 조건이 데이터 정렬\n",
    "- 데이터베이스는 내부적으로 대용량 데이터 처리에 적합한 **트리 (Tree)** 자료구조를 이용하여 항상 데이터가 정렬되어 있다.\n",
    "- 큰 데이터를 처리하는 소프트웨어는 대부분 데이터를 트리 자료구조로 저장해서 이진 탐색과 같은 탐색 기법을 이용해 빠르게 탐색이 가능하다.\n",
    "\n",
    "\n",
    "## 1-3. 이진 탐색 트리\n",
    "\n",
    "- 트리 자료구조 중에서 가장 간단한 현태\n",
    "- 이진 탐색 트리란 이진 탐색이 동작할 수 있도록 고안된, 효율적인 탐색이 가능한 자료구조\n",
    "- 특징\n",
    "    1. 부모 노드보다 왼쪽 자식 노드가 작다.\n",
    "    2. 부모 노드보다 오른쪽 자식 노드가 크다.\n",
    "    - 즉, 왼쪽 자식 노드 < 부모 노드 < 오른쪽 자식 노드\n",
    "    \n",
    "    \n",
    "### 빠르게 입력받기\n",
    "\n",
    "- 데이터의 개수가 천 만개를 넘어가거나 탐색 범위의 크기가 천억 이상이라면 이진 탐색 알고리즘을 의심해보자\n",
    "- 입력 데이터가 많은 문제는 `sys`라이브러리의 `readline()` 함수를 이용하면 시간 초과를 피할 수 있다."
   ]
  },
  {
   "cell_type": "markdown",
   "id": "6892ca25",
   "metadata": {},
   "source": [
    "# 실전문제 1. 부품 찾기\n",
    "\n",
    "\n",
    "### 문제 설명\n",
    "\n",
    "- 동빈이네 부품 N개 있다.\n",
    "- 각 부품은 정수 형태의 고유한 번호가 있다.\n",
    "- 어느 날 손님이 M개 종류의 부품을 대량으로 구매하겠다며 당일 날 견적서 요구\n",
    "- 동빈이는 부분 M개의 종류를 모두 확인해서 견적서를 작성해야 함.\n",
    "- 가게 안에 푸품이 모두 있는지 확인하는 프로그램을 작성\n",
    "\n",
    "\n",
    "- 각 부품이 존재하면 yes, 없으면 no를 출력한다\n",
    "\n",
    "\n",
    "### 문제 해설\n",
    "\n",
    "- 다량의 데이터 검색은 이진 탐색 알고리즘을 이용해 효과적으로 처리할 수 있다.\n",
    "    - 먼저 가게의 N개의 부품을 번호를 기준으로 정렬\n",
    "    - 그 이후에 M개의 찾고자 하는 부품이 각각 가게에 존재하는지 검사\n",
    "    - 이때 가게의 부품들은 정렬이 되어 있기 때문에 이진 탐색을 수행하여 찾을 수 있다.\n",
    "    \n",
    "- 이렇게 문제를 풀면 부품을 찾는데 $O(M \\log N)$\n",
    "- N개의 부품을 정렬하는데 $O(N \\log N)$\n",
    "- 결과적으로 이진 탐색을 사용하는 문제 풀이 방법의 경우 시간 복잡도는 $O((M+N)\\log N)$\n"
   ]
  },
  {
   "cell_type": "code",
   "execution_count": 9,
   "id": "5fc3edeb",
   "metadata": {},
   "outputs": [],
   "source": [
    "# 이진 탐색 소스코드 구현(반복문)\n",
    "\n",
    "def binary_search(array, target, start, end):\n",
    "    while start <= end:\n",
    "        mid = (start + end) // 2\n",
    "        \n",
    "        if array[mid] == target:\n",
    "            return mid\n",
    "        \n",
    "        elif array[mid] > target:\n",
    "            end = mid - 1\n",
    "            \n",
    "        else: \n",
    "            start = mid + 1\n",
    "    \n",
    "    return None\n"
   ]
  },
  {
   "cell_type": "code",
   "execution_count": 3,
   "id": "9bff28a9",
   "metadata": {},
   "outputs": [
    {
     "name": "stdout",
     "output_type": "stream",
     "text": [
      "5\n",
      "8 3 7 9 2\n"
     ]
    }
   ],
   "source": [
    "# N(가게의 부품 개수)을 입력 받기\n",
    "n = int(input())\n",
    "# 가게에 있는 전체 부품 번호를 공백으로 구분하여 입력\n",
    "array = list(map(int, input().split()))\n",
    "array.sort() #이진 탐색을 수행하기 위해 사전에 정렬 수행"
   ]
  },
  {
   "cell_type": "code",
   "execution_count": 6,
   "id": "1f7be327",
   "metadata": {},
   "outputs": [
    {
     "name": "stdout",
     "output_type": "stream",
     "text": [
      "3\n",
      "5 7 9\n"
     ]
    }
   ],
   "source": [
    "# M(손님이 확인 요청한 부품 개수) 입력\n",
    "m = int(input())\n",
    "\n",
    "# 손님이 확인 요청한 전체 부품 번호를 공백으로 구분하여 입력\n",
    "x = list(map(int, input().split()))"
   ]
  },
  {
   "cell_type": "code",
   "execution_count": 10,
   "id": "f69cbb6f",
   "metadata": {},
   "outputs": [
    {
     "name": "stdout",
     "output_type": "stream",
     "text": [
      "no yes yes "
     ]
    }
   ],
   "source": [
    "#손님이 확인 요청한 부품 번호를 하나씩 확인\n",
    "for i in x:\n",
    "    #해당 부품이 존재하는지 확인\n",
    "    result = binary_search(array, i, 0, n - 1)\n",
    "    \n",
    "    if result != None:\n",
    "        print('yes', end=\" \")\n",
    "    else:\n",
    "        print('no', end=\" \")"
   ]
  },
  {
   "cell_type": "code",
   "execution_count": null,
   "id": "e293f5b8",
   "metadata": {},
   "outputs": [],
   "source": []
  },
  {
   "cell_type": "code",
   "execution_count": 11,
   "id": "9ac063e3",
   "metadata": {},
   "outputs": [
    {
     "name": "stdout",
     "output_type": "stream",
     "text": [
      "5\n",
      "8 3 7 9 2\n",
      "3\n",
      "5 7 9\n"
     ]
    }
   ],
   "source": [
    "# 답안 예시 (집합 자료형 사용)\n",
    "n = int(input())\n",
    "array = set(map(int, input().split())) #가게에 있는 전체 부품 번호를 입력하여 집합(set) 자료형에 기록\n",
    "\n",
    "m = int(input())\n",
    "x = list(map(int, input().split()))"
   ]
  },
  {
   "cell_type": "code",
   "execution_count": 12,
   "id": "3bcace18",
   "metadata": {},
   "outputs": [
    {
     "name": "stdout",
     "output_type": "stream",
     "text": [
      "no yes yes "
     ]
    }
   ],
   "source": [
    "for i in x:\n",
    "    if i in array:\n",
    "        print('yes', end= \" \")\n",
    "    else: \n",
    "        print(\"no\", end=\" \")"
   ]
  },
  {
   "cell_type": "markdown",
   "id": "76ab05c0",
   "metadata": {},
   "source": [
    "- `set()` 함수는 집합 자료형을 초기화할 때 사용한다.\n",
    "- 이러한 집합 자료형은 단순히 특정한 데이터가 존재하는지 검사할 때 매우 효과적으로 사용할 수 있다.\n",
    "\n",
    "# 실전문제 2. 떡볶이 떡 만들기\n",
    "\n",
    "### 문제 설명\n",
    "- 동빈이네 떡볶이 떡은 재밌게도 떡의 길이가 일정하지 않다.\n",
    "- 대신에 한 봉지 안에 들어가는 떡의 총 길이는 절단기로 잘라서 맞춰준다.\n",
    "- 절단기에 높이(H)를 지정하면 줄지어진 떡을 한 번에 절단한다.\n",
    "- 높이가 H보다 긴 떡은 H 위의 부분이 잘릴 것이고, 낮은 떡은 잘리지 않는다.\n",
    "- 손님이 왔을 때 요청한 총 길이가 M일 때 적어도 M만큼의 떡을 얻기 위해 절단기에 설정할 수 있는 높이의 최댓값을 구하는 프로그램을 작성하시오.\n",
    "\n",
    "### 문제 해설\n",
    "\n",
    "- 전형적인 이진 탐색 문제 and 파라메트릭 서치(Parametric Search) 유형의 문제이다.\n",
    "    - 파라메트릭 서치: 최적화 문제를 결정문제(예 혹은 아니오로 답하는 문제)\n",
    "    - 원하는 조건을 만족하는 가장 알맞은 값을 찾는 문제에 주로 사용\n",
    "    \n",
    "- 범위 내에서 조건을 만족하는 가장 큰 값을 찾으라는 최적화 문제라면 이진 탐색으로 결정 문제를 해결하면서 범위를 좁혀갈 수 있다.\n",
    "- 코딩테스트나 프로그래밍 대회에서는 보통 파라메트릭 서치 유형은 이진탐색을 이용하여 해결\n",
    "\n",
    "\n",
    "- H 높이를 조정하면서 '현재 이 높이로 자르면 조건을 만족할 수 있는가?'를 확인한 뒤에 조건 만족여부에 따라서 탐색 범위를 좁혀서 해결할 수 있다.\n",
    "- 범위를 좁힐 때는 이진 탐색의 원리를 이용하여 절반씩 탐색 범위를 좁혀 나간다.\n",
    "\n",
    "\n",
    "- 절단기위 높이(탐색범위)는 1~10억인데 이렇게 큰 수를 보면 당연하게도 가장 먼저 이진탐색을 떠올려야 한다.\n",
    "- 순차 탐색은 분명 시간 초과를 받을 것이다.\n",
    "\n"
   ]
  },
  {
   "cell_type": "code",
   "execution_count": 13,
   "id": "8f4800e4",
   "metadata": {},
   "outputs": [
    {
     "name": "stdout",
     "output_type": "stream",
     "text": [
      "4 6\n",
      "19 15 10 17\n"
     ]
    }
   ],
   "source": [
    "# 답안예시\n",
    "\n",
    "# 떡의 개수 (N)와 요청한 떡의 길이(M)을 입력 받기\n",
    "n, m = list(map(int, input().split(\" \")))\n",
    "# 각 떡의 개별 높이 정보를 입력받기\n",
    "array = list(map(int, input().split()))\n",
    "\n",
    "\n",
    "\n",
    "\n"
   ]
  },
  {
   "cell_type": "code",
   "execution_count": 16,
   "id": "0f91e61a",
   "metadata": {},
   "outputs": [],
   "source": [
    "# 이진 탐색을 위한 시작점과 끝점 설정\n",
    "start = 0\n",
    "end = max(array)"
   ]
  },
  {
   "cell_type": "code",
   "execution_count": 17,
   "id": "d1478d84",
   "metadata": {},
   "outputs": [
    {
     "name": "stdout",
     "output_type": "stream",
     "text": [
      "15\n"
     ]
    }
   ],
   "source": [
    "#이진탐색수행(반복적)\n",
    "\n",
    "result = 0\n",
    "while(start <= end):\n",
    "    total = 0\n",
    "    mid = (start + end) // 2\n",
    "    \n",
    "    for x in array:\n",
    "            # 잘랐을 때의 떡의 양 계산\n",
    "            if x > mid:\n",
    "                total += x - mid\n",
    "    \n",
    "    if total < m:\n",
    "        end = mid - 1\n",
    "        \n",
    "    else:\n",
    "        result = mid \n",
    "        start = mid + 1\n",
    "        \n",
    "# 정답 출력\n",
    "print(result)\n",
    "\n",
    "\n"
   ]
  },
  {
   "cell_type": "code",
   "execution_count": null,
   "id": "02016f77",
   "metadata": {},
   "outputs": [],
   "source": []
  },
  {
   "cell_type": "code",
   "execution_count": null,
   "id": "f323fadc",
   "metadata": {},
   "outputs": [],
   "source": []
  },
  {
   "cell_type": "code",
   "execution_count": null,
   "id": "2cea3974",
   "metadata": {},
   "outputs": [],
   "source": []
  },
  {
   "cell_type": "code",
   "execution_count": null,
   "id": "953fadb1",
   "metadata": {},
   "outputs": [],
   "source": []
  }
 ],
 "metadata": {
  "kernelspec": {
   "display_name": "Python 3 (ipykernel)",
   "language": "python",
   "name": "python3"
  },
  "language_info": {
   "codemirror_mode": {
    "name": "ipython",
    "version": 3
   },
   "file_extension": ".py",
   "mimetype": "text/x-python",
   "name": "python",
   "nbconvert_exporter": "python",
   "pygments_lexer": "ipython3",
   "version": "3.9.13"
  }
 },
 "nbformat": 4,
 "nbformat_minor": 5
}
