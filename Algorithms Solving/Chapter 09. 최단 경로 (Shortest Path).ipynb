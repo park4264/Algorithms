{
 "cells": [
  {
   "cell_type": "markdown",
   "id": "5846d7e6",
   "metadata": {},
   "source": [
    "- 특정 지점까지 가장 빠르게 도달하는 방법을 찾는 알고리즘\n",
    "\n",
    "# Chapter 09. 최단 경로 (Shortest Path)\n",
    "## 9-1. 가장 빠르게 도달하는 방법\n",
    "\n",
    "- 말 그대로 가장 짧은 경로를 찾는 알고리즘\n",
    "- 길 찾기 문제라고도 불린다.\n",
    "- 최단 경로 알고리즘 유형에는 다양한 종류가 있는데, 상황에 맞는 효율적인 알고리즘이 이미 정립되어있음.\n",
    "> - 한 지점에서 다른 특정 지점까지의 최단경로 구하기\n",
    "> - 모든 지점에서 다른 모든 지점까지의 최단 경로를 모두 구해야 하는 경우 등\n",
    "\n",
    "\n",
    "- 최단 경로 문제는 보통 그래프를 이용해 표현하는데 각 지점은 그래프에서 **'노드'**로 표현\n",
    "- 지점간 연결된 도로는 그래프에서 **'간선'**으로 표현\n",
    "\n",
    "\n",
    "- 다루는 최단 거리 알고리즘:\n",
    "> - 다익스트라 최단 경로\n",
    "> - 플로이드 워셜 알고리즘\n",
    "- +앞서 공부한 그리디 알고리즘과 다이나믹 프로그래밍 알고리즘이 최단 경로 알고리즘에 그대로 적용됨\n",
    "\n",
    "## 9-2. 다익스트라 (Dijkstra) 최단 경로 알고리즘\n",
    "\n",
    "- 그래프에서 여러 개의 노드가 있을 때, 특정한 노드에서 출발하여 다른 노드로 가는 각각의 최단 경로를 구해주는 알고리즘\n",
    "- 다익스트라 최단 경로 알고리즘은 기본적으로 그리디 알고리즘으로 분류함\n",
    "    - 매번 '가장 비용이 적은 노드'를 선택해서 임의의 과정을 반복하기 때문\n",
    "    \n",
    "    \n",
    "- 알고리즘의 원리:\n",
    "> 1. 출발 노드를 설정\n",
    "> 2. 최단 거리 테이블을 초기화\n",
    "> 3. 방문하지 않은 노드 중에서 최단 거리가 가장 짧은 노드를 선택\n",
    "> 4. 해당 노드를 거쳐 다른 노드로 가는 비용을 계산하여 최단 거리 테이블을 갱신\n",
    "> 5. 위 과정에서 3,4번을 반복\n",
    "\n",
    "- 다익스트라 알고리즘은 최단 경로를 구하는 과정에서 '각 노드에 대한 현재까지의 최단 거리' 정보를 항상 1차원 리스트에 저장하며 리스트를 계속 갱신한다는 특징이 있다.\n",
    "- '방문하지 않은 노드 중에서 현재 최단 거리가 가장 짧은 노드를 확인'해 그 노드에 대하여 4번 과정을 수행한다 -> 그리디 알고리즘으로 볼 수 있다.\n",
    "\n",
    "\n",
    "- 다익스트라 알고리즘을 구현하는 방법은 2가지:\n",
    "    1. 구현하기 쉽지만 느리게 동작하는 코드\n",
    "    2. 구현하기에 조금 더 까다롭지만 빠르게 동작하는 코드\n",
    "    - ✨**방법 2를 정확히 이해하고 구현할 수 있을 때까지 연습해야함!**✨\n",
    "\n",
    "\n",
    "- 다익스트라 최단 경로 알고리즘에서는 <U>**'방문하지 않은 노드 중에서 가장 최단 거리가 짧은 노드를 선택'**</U>하는 과정을 반복\n",
    "    - 이렇게 선택된 노드는 '최단 거리'가 완전히 선택된 노드이므로, 더 이상 알고리즘을 반복해도 최단거리가 줄어들지 않는다.\n",
    "    \n",
    "    - 다시 말해, 다익스트라 알고리즘이 진행되면서 **한 단계당 하나의 노드에 대한 최단 거리를 확실히 찾는 것으로 이해**할 수 있다.\n",
    "    \n",
    "    \n",
    "## 방법 1. 간단한 다익스트라 알고리즘\n",
    "\n",
    "- $V$:노드의 개수\n",
    "- 간단한 다익스트라 알고리즘의 시간 복잡도: $O(V^2)$\n",
    "- 이 알고리즘은 직관적이고 쉽게 이해할 수 있다.\n",
    ">    - 처음에 각 노드에 대한 최단 거리를 담는 1차원 리스트를 선언\n",
    ">    - 이후에 단계마다 \n",
    ">        - 방문하지 않은 노드 중에서 최단 거리가 가장 짧은 노드를 선택하기 위해서\n",
    ">        - 매 단계마다 1차원 리스트의 모든 원소를 확인(순차 탐색)\n",
    "- 입력되는 데이터의 수가 많다는 가정하에 파이썬 내장 함수인 `input()`을 더 빠르게 동작하는 `sys.std.realine()`으로 치환하여 사용하는 방법을 적용\n",
    "\n",
    "\n",
    "\n",
    "\n"
   ]
  },
  {
   "cell_type": "code",
   "execution_count": 1,
   "id": "6717c5ab",
   "metadata": {
    "scrolled": false
   },
   "outputs": [
    {
     "name": "stdout",
     "output_type": "stream",
     "text": [
      "6 11\n",
      "1\n",
      "1 2 2\n",
      "1 3 5\n",
      "1 4 1\n",
      "2 3 3\n",
      "2 4 2\n",
      "3 2 3\n",
      "3 6 5\n",
      "4 3 3\n",
      "4 5 1\n",
      "5 3 1\n",
      "5 6 2\n",
      "0\n",
      "2\n",
      "3\n",
      "1\n",
      "2\n",
      "4\n"
     ]
    }
   ],
   "source": [
    "### 간단한 다익스트라 알고리즘 소스코드 ###\n",
    "#import sys\n",
    "#input = sys.stdin.readline\n",
    "INF = int(1e9) # 무한을 의미하는 값으로 10억을 설정\n",
    "\n",
    "# 노드의 개수, 간선의 개수를 입력받기\n",
    "n, m = map(int, input().split())\n",
    "# 시작 노드 번호를 입력받기\n",
    "start = int(input())\n",
    "# 각 노드에 연결되어 있는 노드에 대한 정보를 담는 리스트를 만들기\n",
    "graph = [[] for i in range(n + 1)]\n",
    "# 방문한 적이 있는지 체크하는 목적의 리스트를 만들기\n",
    "visited = [False] * (n + 1)\n",
    "# 최단 거리 테이블을 모두 무한으로 초기화\n",
    "distance = [INF] * (n + 1)\n",
    "\n",
    "# 모든 간선 정보를 입력받기\n",
    "for _ in range(m):\n",
    "    a, b, c = map(int, input().split())\n",
    "    # a번 노드에서 b번 노드로 가는 비용이 c라는 의미\n",
    "    graph[a].append((b, c))\n",
    "\n",
    "# 방문하지 않은 노드 중에서, 가장 최단 거리가 짧은 노드의 번호를 반환\n",
    "def get_smallest_node():\n",
    "    min_value = INF\n",
    "    index = 0 # 가장 최단 거리가 짧은 노드(인덱스)\n",
    "    for i in range(1, n + 1):\n",
    "        if distance[i] < min_value and not visited[i]:\n",
    "            min_value = distance[i]\n",
    "            index = i\n",
    "    return index\n",
    "\n",
    "def dijkstra(start):\n",
    "    # 시작 노드에 대해서 초기화\n",
    "    distance[start] = 0\n",
    "    visited[start] = True\n",
    "    for j in graph[start]:\n",
    "        distance[j[0]] = j[1]\n",
    "    # 시작 노드를 제외한 전체 n - 1개의 노드에 대해 반복\n",
    "    for i in range(n - 1):\n",
    "        # 현재 최단 거리가 가장 짧은 노드를 꺼내서, 방문 처리\n",
    "        now = get_smallest_node()\n",
    "        visited[now] = True\n",
    "        # 현재 노드와 연결된 다른 노드를 확인\n",
    "        for j in graph[now]:\n",
    "            cost = distance[now] + j[1]\n",
    "            # 현재 노드를 거쳐서 다른 노드로 이동하는 거리가 더 짧은 경우\n",
    "            if cost < distance[j[0]]:\n",
    "                distance[j[0]] = cost\n",
    "\n",
    "# 다익스트라 알고리즘을 수행\n",
    "dijkstra(start)\n",
    "\n",
    "# 모든 노드로 가기 위한 최단 거리를 출력\n",
    "for i in range(1, n + 1):\n",
    "    # 도달할 수 없는 경우, 무한(INFINITY)이라고 출력\n",
    "    if distance[i] == INF:\n",
    "        print(\"INFINITY\")\n",
    "    # 도달할 수 있는 경우 거리를 출력\n",
    "    else:\n",
    "        print(distance[i])"
   ]
  },
  {
   "cell_type": "markdown",
   "id": "378b08dd",
   "metadata": {},
   "source": [
    "- 노드의 개수가 10,000개를 넘어가면 이 코드로는 문제를 해결하기 어렵다\n",
    "- 노드의 개수 및 간선의 개수가 많을 때는 '개선된 다익스트라 알고리즘'을 이용해야 한다.\n",
    "\n",
    "## 방법 2. 개선된 다익스트라 알고리즘\n",
    "\n",
    "- 다익스트라 최단 경로 문제를 최악의 경우에도 시간 복잡도 $O(E \\log V)$를 보장하여 해결할 수 있다.\n",
    "    - $V$: 노드의 개수\n",
    "    - $E$: 간선의 개수\n",
    "    \n",
    "    \n",
    "- 최단 거리가 가장 짧은 노드를 단순히 선형적으로 찾는 것이 아니라 더욱더 빠르게 찾을 수 있다면?\n",
    "- 알고리즘의 시간 복잡도를 더욱 줄일 수 있을 것이다.\n",
    "\n",
    "\n",
    "- 개선된 다익스트라 알고리즘에서는 **힙(Heap)** 자료구조를 사용한다.\n",
    "    - 힙 자료구조를 이용하면 특정 노드까지의 최단 거리에 대한 정보를 힙에 담아서 철\n",
    "    - 출발 노드로부터 가장 거리가 짧은 노드를 더욱 빠르게 찾을 수 있다.\n",
    "    \n",
    "    \n",
    "### 힙 설명\n",
    "\n",
    "- 힙 자료구조는 우선순위 큐(Priority Queue)를 구현하기 위하여 사용하는 자료구조 중 하나\n",
    "    - 우선순위 큐: 우선순위가 가장 높은 데이터를 가장 먼저 삭제한다는 특징이 있다.\n",
    "    \n",
    "|자료구조|추출되는 데이터|\n",
    "|---|---|\n",
    "|스택(Stack)|가장 나중에 삽입된 데이터|\n",
    "|큐(Queue)|가장 먼저 삽입된 데이터|\n",
    "|우선순위 큐(Priority Queue)|가장 우선순위가 높은 데이터|\n",
    "\n",
    "\n",
    "- 파이썬에서 우선순위 큐가 필요할 때 `heapq`를 사용한다.\n",
    "\n",
    "- 우선순위 큐를 구현할 때는 내부적으로 최소 힙(Min Heap) 또는 최대 힙(Max Heap)을 이용\n",
    "    - 최소 힙을 이용 -> 값이 낮은 데이터가 먼저 삭제 (기본적인 파이썬 라이브러리)\n",
    "    - 최대 힙을 이용 -> 값이 큰 데이터가 먼저 삭제\n",
    "    \n",
    "- 데이터의 개수가 N개일 때, 구현 방식에 따라서 시간 복잡도를 비교한 내용\n",
    "\n",
    "\n",
    "\n",
    "|구현 방식|삽입 시간|삭제 시간|\n",
    "|:---:|:---:|:---:|\n",
    "|리스트| O(1) |O(N)|\n",
    "|힙(Heap)|O(log N)|O(log N)|\n",
    "\n",
    "- 힙을 이용하는 경우 모든 원소를 저장한 뒤에 우선순위에 맞게 빠르게 뽑아낼 수 있으므로\n",
    "- <U>힙은 '우선순위 큐'를 구현하는 데 가장 많이 사용된다.</U>\n",
    "\n",
    "\n",
    "- 파이썬의 우선순위 큐 라이브러리는 최소 힙에 기반\n",
    "- $\\Rightarrow$ 우리는 이러한 최소 힙을 다익스트라 최단 경로 알고리즘에 적용할 것이다.\n",
    "\n",
    "\n",
    "> - 최단 거리를 저장하기 위한 1차원 리스트(최단 거리 테이블)는 그대로\n",
    "> - 현재 가장 가까운 노드를 저장하기 위한 목적으로만 우선순위 큐를 추가로 이용\n"
   ]
  },
  {
   "cell_type": "code",
   "execution_count": 3,
   "id": "9462b796",
   "metadata": {},
   "outputs": [],
   "source": [
    "# 개선된 다익스트라 알고리즘 소스코드\n",
    "\n",
    "import heapq\n",
    "INF = int(1e9) # 무한을 의미하는 값으로 10억을 설정"
   ]
  },
  {
   "cell_type": "code",
   "execution_count": 6,
   "id": "c0fdb3c7",
   "metadata": {},
   "outputs": [
    {
     "name": "stdout",
     "output_type": "stream",
     "text": [
      "6 11\n",
      "1\n"
     ]
    }
   ],
   "source": [
    "# 노드의 개수, 간선의 개수를 입력받기\n",
    "n, m = map(int, input().split())\n",
    "# 시작 노드 번호를 입력받기\n",
    "start = int(input())\n",
    "# 각 노드에 연결되어 있는 노드에 대한 정보를 담는 리스트를 만들기\n",
    "graph = [[] for i in range(n + 1)]\n",
    "# 최단 거리 테이블을 모두 무한으로 초기화\n",
    "distance = [INF] * (n + 1)"
   ]
  },
  {
   "cell_type": "code",
   "execution_count": 7,
   "id": "855856b3",
   "metadata": {},
   "outputs": [
    {
     "name": "stdout",
     "output_type": "stream",
     "text": [
      "1 2 2\n",
      "1 3 5\n",
      "1 4 1\n",
      "2 3 3\n",
      "2 4 2\n",
      "3 2 3\n",
      "3 6 5\n",
      "4 3 3\n",
      "4 5 1\n",
      "5 3 1\n",
      "5 6 2\n"
     ]
    }
   ],
   "source": [
    "# 모든 간선 정보를 입력받기\n",
    "for _ in range(m):\n",
    "    a, b, c = map(int, input().split())\n",
    "    # a번 노드에서 b번 노드로 가는 비용이 c라는 의미\n",
    "    graph[a].append((b, c))"
   ]
  },
  {
   "cell_type": "code",
   "execution_count": 8,
   "id": "2a5fe407",
   "metadata": {},
   "outputs": [],
   "source": [
    "def dijkstra(start):\n",
    "    q = []\n",
    "    \n",
    "    # 시작 노드로 가기 위한 최단 경로는 0으로 설정하여, 큐에 삽입\n",
    "    heapq.heappush(q, (0,start))\n",
    "    \n",
    "    distance[start] = 0\n",
    "    \n",
    "    while q: #큐가 비어있지 않다면\n",
    "        \n",
    "        # 가장 최단 거리가 짧은 노드에 대한 정보 꺼내기\n",
    "        dist, now = heapq.heappop(q)\n",
    "        \n",
    "        # 현재 노드가 이미 처리된 적이 있는 노드라면 무시\n",
    "        if distance[now] < dist:\n",
    "            continue\n",
    "        \n",
    "        # 현재 노드와 연결된 다른 인접한 노드들을 확인\n",
    "        for i in graph[now]:\n",
    "            cost = dist + i[1]\n",
    "            \n",
    "            # 현재 노드를 거쳐서, 다른 노드로 이동하는 거리가 더 짧은 경우\n",
    "            if cost < distance[i[0]]:\n",
    "                distance[i[0]] = cost\n",
    "                heapq.heappush(q, (cost, i[0]))"
   ]
  },
  {
   "cell_type": "code",
   "execution_count": 9,
   "id": "75d2ddee",
   "metadata": {},
   "outputs": [],
   "source": [
    "# 다익스트라 알고리즘을 수행\n",
    "dijkstra(start)"
   ]
  },
  {
   "cell_type": "code",
   "execution_count": 10,
   "id": "dc9c623b",
   "metadata": {},
   "outputs": [
    {
     "name": "stdout",
     "output_type": "stream",
     "text": [
      "0\n",
      "2\n",
      "3\n",
      "1\n",
      "2\n",
      "4\n"
     ]
    }
   ],
   "source": [
    "# 모든 노드로 가기 위한 최단 거리를 출력\n",
    "for i in range(1, n+1):\n",
    "    # 도달할 수 없는 경우, 무한(INFINITY)이라고 출력\n",
    "    if distance[i] == INF:\n",
    "        print(\"INFINITY\")\n",
    "        \n",
    "    # 도달할 수 있는 경우 거리를 출력\n",
    "    else:\n",
    "        print(distance[i])"
   ]
  },
  {
   "cell_type": "markdown",
   "id": "cbbef57d",
   "metadata": {},
   "source": [
    "### 개선된 다익스트라 알고리즘의 시간 복잡도\n",
    "\n",
    "- 개선된 다익스트라 알고리즘은 시간 복잡도가 $O(E \\log V)$로 훨씬 빠르다.\n",
    "- 한 번 처리된 노드는 더 이상 처리되지 않는다.\n",
    "\n",
    "\n",
    "- 우선순위 큐는 실제로는 단순히 힙 자료구조로 구현할 수 있다.\n",
    "    - '항상 가장 작은 값이 먼저 나온다'라는 특징을 지키면서,\n",
    "    - 단일 데이터의 삽입과 삭제연산을 $O(\\log N)$에 수행하는 `heapq` 라이브러리를 이용하면 된다.\n",
    "    \n",
    "    \n",
    "## 9-3. 플로이드 워셜 알고리즘 (Floyd-Warshall Algorithm)\n",
    "\n",
    "- **플로이드 워셜 알고리즘 (Floyd-Warshall Algorithm)**: 모든 지접에서 다른 모든 지점까지의 최단 경로를 모두 구해야 하는 경우에 사용할 수 있는 알고리즘\n",
    "- 플로이드 워셜 알고리즘 또한 단계마다 '거쳐 가는 노드'를 기준으로 알고리즘을 수행\n",
    "- 노드의 개수가 N개일 때 알고리즘상으로 N번의 단계를 수행하며, 단계마다 $O(N^2)$의 연산을 통해 현재 노드를 거쳐 가는 모든 경로를 고려한다.\n",
    "    - 따라서 플로이드 워셜 알고리즘의 총시간 복잡도는 $O(N^3)$이다.\n",
    " \n",
    " \n",
    "- 2차원 리스트에 '최단 거리' 정보를 저장\n",
    "    - 모든 노드에 대하여 다른 모든 노드로 가는 최단 거리 정보를 담아야 하기 때문이다.\n",
    "    \n",
    "    \n",
    "- 다익스트라 알고리즘: 그리디 알고리즘\n",
    "- 플로이드 워셜 알고리즘: 다이나믹 프로그래밍\n",
    "    - 노드의 개수가 N이라고 할 때, N번 만큼의 단계를 반복하며 '점화식에 맞게' 2차원 리스트를 갱신하기 때문\n",
    "    \n",
    "    \n",
    "    \n",
    "    \n",
    "\n",
    "\n",
    "> - 알고리즘에서는 현재 확인하고 있는 노드를 제외하고, N-1개의 노드 중에서 서로 다른 노드 $(A,B)$ 쌍을 선택한다.\n",
    "> - 이후에 A $\\rightarrow$ 1번 노드 $\\rightarrow$ B로 가는 비용을 확인한 뒤에 최단 거리를 갱신한다.\n",
    "> - 다시말해 $_{N-1}P_{2}$개의 쌍을 단계마다 반복해서 확인하면 된다.\n",
    "\n",
    "\n",
    "- 구체적인 (K번의 단계에 대한) 점화식은 다음과 같다:\n",
    "$$D_{ab} = \\min(D_{ab}, D_{ak} + D_{kb})$$\n",
    "    - A에서 B로 가는 최소비용과 A에서 K를 거쳐 B로 가는 비용을 비교하여 더 작은 값으로 갱신하겠다.\n",
    " "
   ]
  },
  {
   "cell_type": "code",
   "execution_count": 15,
   "id": "7f56e33b",
   "metadata": {},
   "outputs": [
    {
     "name": "stdout",
     "output_type": "stream",
     "text": [
      "4\n",
      "7\n",
      "1 2 4\n",
      "1 4 6\n",
      "2 1 3\n",
      "2 3 7\n",
      "3 1 5\n",
      "3 4 4\n",
      "4 3 2\n",
      "0 4 8 6 \n",
      "3 0 7 9 \n",
      "5 9 0 4 \n",
      "7 11 2 0 \n"
     ]
    }
   ],
   "source": [
    "INF = int(1e9) # 무한을 의미하는 값으로 10억을 설정\n",
    "\n",
    "# 노드의 개수 및 간선의 개수를 입력받기\n",
    "n = int(input())\n",
    "m = int(input())\n",
    "# 2차원 리스트(그래프 표현)를 만들고, 모든 값을 무한으로 초기화\n",
    "graph = [[INF] * (n + 1) for _ in range(n + 1)]\n",
    "\n",
    "# 자기 자신에서 자기 자신으로 가는 비용은 0으로 초기화\n",
    "for a in range(1, n + 1):\n",
    "    for b in range(1, n + 1):\n",
    "        if a == b:\n",
    "            graph[a][b] = 0\n",
    "\n",
    "# 각 간선에 대한 정보를 입력 받아, 그 값으로 초기화\n",
    "for _ in range(m):\n",
    "    # A에서 B로 가는 비용은 C라고 설정\n",
    "    a, b, c = map(int, input().split())\n",
    "    graph[a][b] = c\n",
    "\n",
    "# 점화식에 따라 플로이드 워셜 알고리즘을 수행\n",
    "for k in range(1, n + 1):\n",
    "    for a in range(1, n + 1):\n",
    "        for b in range(1, n + 1):\n",
    "            graph[a][b] = min(graph[a][b], graph[a][k] + graph[k][b])\n",
    "\n",
    "# 수행된 결과를 출력\n",
    "for a in range(1, n + 1):\n",
    "    for b in range(1, n + 1):\n",
    "        # 도달할 수 없는 경우, 무한(INFINITY)이라고 출력\n",
    "        if graph[a][b] == 1e9:\n",
    "            print(\"INFINITY\", end=\" \")\n",
    "        # 도달할 수 있는 경우 거리를 출력\n",
    "        else:\n",
    "            print(graph[a][b], end=\" \")\n",
    "    print()"
   ]
  },
  {
   "cell_type": "markdown",
   "id": "063c9b9e",
   "metadata": {},
   "source": [
    "## 실전 문제 1. 미래도시\n",
    "\n",
    "### 문제 설명\n",
    "\n",
    "- 공중 미래 도시에는 1번부터 N번까지의 회사가 있다.\n",
    "- 따라서 방문 판매원 A는 1번 회사에서 출발하여 K번 회사를 방문한 뒤에 X번 회사로 가는 것이 목표\n",
    "- 방문 판매원이 회사 사이를 이동하게 되는 최소 시간을 계산하는 프로그램을 작성하시오.\n",
    "\n",
    "\n",
    "\n",
    "### 문제 해설\n",
    "\n",
    "- 이 문제는 전형적인 플로이드 워셜 알고리즘 문제\n",
    "- 문제에서 N의 범위가 100 이하로 매우 한정적이다 -> 따라서 플로이드 워셜 알고리즘을 이용해도 빠르게 풀 수 있다.\n",
    "- 💡이 문제의 핵심 아이디어:\n",
    "    - 1번 노드에서 K를 거쳐 X로 가는 최단 거리 = 1번 노드에서 K까지의 최단 거리 + K에서 X까지의 최단거리"
   ]
  },
  {
   "cell_type": "code",
   "execution_count": 19,
   "id": "43d0975f",
   "metadata": {},
   "outputs": [
    {
     "name": "stdout",
     "output_type": "stream",
     "text": [
      "5 7\n",
      "1 2\n",
      "1 3\n",
      "1 4\n",
      "2 4\n",
      "3 4\n",
      "3 5\n",
      "4 5\n",
      "4 5\n"
     ]
    }
   ],
   "source": [
    "# 답안 예시 #\n",
    "\n",
    "INF = int(1e9) # 무한을 의미하는 값으로 10억을 설정\n",
    "\n",
    "# 노드의 개수 및 간선의 개수를 입력받기\n",
    "n, m = map(int, input().split())\n",
    "\n",
    "# 2차원 리스트(그래프 표현)를 만들고, 모든 값을 무한으로 초기화\n",
    "graph = [[INF]*(n+1) for _ in range(n+1)]\n",
    "\n",
    "# 자기 자신에서 자기 자신으로 가는 비용은 0으로 초기화\n",
    "for a in range(1, n+1):\n",
    "    for b in range(1, n+1):\n",
    "        if a == b:\n",
    "            graph[a][b] = 0\n",
    "            \n",
    "# 각 간선에 대한 정보를 입력받아, 그 값으로 초기화\n",
    "for _ in range(m):\n",
    "    # A와 B가 서로에게 가는 비용은 1이라고 설정\n",
    "    a, b = map(int, input().split())\n",
    "    graph[a][b] = 1\n",
    "    graph[b][a] = 1\n",
    "    \n",
    "    \n",
    "# 거쳐 갈 노드 X와 최종 목적지 노드 K를 입력받기\n",
    "x, k = map(int, input().split())\n"
   ]
  },
  {
   "cell_type": "code",
   "execution_count": 20,
   "id": "83b4de27",
   "metadata": {},
   "outputs": [],
   "source": [
    "# 점화식에 따라 플로이드 워셜 알고리즘을 수행\n",
    "\n",
    "for k in range(1, n+1):\n",
    "    for a in range(1, n+1):\n",
    "        for b in range(1, n+1):\n",
    "            graph[a][b] = min(graph[a][b], graph[a][k] + graph[k][b])"
   ]
  },
  {
   "cell_type": "code",
   "execution_count": 22,
   "id": "e9ae29c7",
   "metadata": {},
   "outputs": [
    {
     "name": "stdout",
     "output_type": "stream",
     "text": [
      "3\n"
     ]
    }
   ],
   "source": [
    "# 수행된 결과를 출력\n",
    "distance = graph[1][k] + graph[k][x]\n",
    "if distance >= INF:\n",
    "    print(\"-1\")\n",
    "else:\n",
    "    print(distance)"
   ]
  },
  {
   "cell_type": "markdown",
   "id": "cf6b01f9",
   "metadata": {},
   "source": [
    "## 실전문제 2. 전보\n",
    "### 문제 설명\n",
    "\n",
    "\n",
    "\n",
    "\n",
    "\n",
    "- 어떤 나라에는 N개의 도시가 있다\n",
    "- 도시 C에서 메시지가 출발하여 각 도시 사이에 설치된 통로를 거쳐, 최대한 많이 퍼져나갈 것이다.\n",
    "- 각 도시의 번호와 통로가 설치되어 있는 정보가 주어졌을 때, 도시 C에서 보낸 메시지를 받게 되는 도시의 개수는 총 몇 개이며 도시들이 모두 메시지를 받는 데까지 걸리는 시간은 얼마인지 계산하는 프로그램을 작성하시오.\n",
    "\n",
    "### 문제 해설\n",
    "\n",
    "- 이 문제를 들여다보면 한 도시에서 다른 도시까지의 최단 거리 문제로 치환할 수 있으므로 다익스트라 알고리즘을 이용해서 풀 수 있다.\n",
    "- 또한 N과 M의 범위가 충분히 크기 때문에, 우선순위 큐를 이용하여 다익스트라 알고리즘을 작성해야 한다."
   ]
  },
  {
   "cell_type": "code",
   "execution_count": 26,
   "id": "f8a311a3",
   "metadata": {},
   "outputs": [
    {
     "name": "stdout",
     "output_type": "stream",
     "text": [
      "3 2 1\n",
      "1 2 4\n",
      "1 3 2\n"
     ]
    }
   ],
   "source": [
    "# 답안 예시\n",
    "\n",
    "import heapq\n",
    "INF = int(1e9) # 무한을 의미하는 값으로 10억을 설정\n",
    "\n",
    "# 노드의 개수, 간선의 개수, 시작 노드를 입력받기\n",
    "n, m, start = map(int, input().split())\n",
    "# 각 노드에 연결되어 있는 노드에 대한 정보를 담는 리스트를 만들기\n",
    "graph = [[] for i in range(n + 1)]\n",
    "# 최단 거리 테이블을 모두 무한으로 초기화\n",
    "distance = [INF] * (n + 1)\n",
    "\n",
    "# 모든 간선 정보를 입력받기\n",
    "for _ in range(m):\n",
    "    x, y, z = map(int, input().split())\n",
    "    # X번 노드에서 Y번 노드로 가는 비용이 Z라는 의미\n",
    "    graph[x].append((y, z))"
   ]
  },
  {
   "cell_type": "code",
   "execution_count": 27,
   "id": "11917a57",
   "metadata": {},
   "outputs": [],
   "source": [
    "def dijkstra(start):\n",
    "    q = []\n",
    "    \n",
    "    # 시작 노드로 가기 위한 최단 경로는 0으로 설정하며, 큐에 삽입\n",
    "    heapq.heappush(q, (0,start))\n",
    "    distance[start] = 0\n",
    "    \n",
    "    while q: # 큐가 비어있지 않다면\n",
    "        # 가장 최단 거리가 짧은 노드에 대한 정보를 꺼내가\n",
    "        dist, now = heapq.heappop(q)\n",
    "        if distance[now] < dist:\n",
    "            continue\n",
    "            \n",
    "        # 현재 노드와 연결된 다른 인접한 노드들을 확인\n",
    "        for i in graph[now]:\n",
    "            cost = dist + i[1]\n",
    "            \n",
    "            # 현재 노드를 거쳐서, 다른 노드로 이동하는 거리가 더 짧은 경우\n",
    "            if cost < distance[i[0]]:\n",
    "                distance[i[0]] = cost\n",
    "                heapq.heappush(q, (cost, i[0]))\n",
    "                \n",
    "        "
   ]
  },
  {
   "cell_type": "code",
   "execution_count": 29,
   "id": "6b399ee2",
   "metadata": {},
   "outputs": [
    {
     "name": "stdout",
     "output_type": "stream",
     "text": [
      "2 4\n"
     ]
    }
   ],
   "source": [
    "# 다익스트라 알고리즘을 수행\n",
    "dijkstra(start)\n",
    "\n",
    "# 도달할 수 있는 노드의 개수\n",
    "count = 0\n",
    "# 도달할 수 있는 노드 중에서, 가장 멀리 있는 노드와의 최단 거리\n",
    "max_distance = 0\n",
    "for d in distance:\n",
    "    # 도달할 수 있는 노드인 경우\n",
    "    if d != 1e9:\n",
    "        count += 1\n",
    "        max_distance = max(max_distance, d)\n",
    "\n",
    "# 시작 노드는 제외해야 하므로 count - 1을 출력\n",
    "print(count - 1, max_distance)"
   ]
  },
  {
   "cell_type": "code",
   "execution_count": 30,
   "id": "0b775d10",
   "metadata": {},
   "outputs": [
    {
     "data": {
      "text/plain": [
       "3"
      ]
     },
     "execution_count": 30,
     "metadata": {},
     "output_type": "execute_result"
    }
   ],
   "source": [
    "3"
   ]
  },
  {
   "cell_type": "code",
   "execution_count": 31,
   "id": "83ffe5b2",
   "metadata": {},
   "outputs": [
    {
     "data": {
      "text/plain": [
       "2"
      ]
     },
     "execution_count": 31,
     "metadata": {},
     "output_type": "execute_result"
    }
   ],
   "source": [
    "2"
   ]
  },
  {
   "cell_type": "code",
   "execution_count": null,
   "id": "9e8509d1",
   "metadata": {},
   "outputs": [],
   "source": []
  },
  {
   "cell_type": "code",
   "execution_count": null,
   "id": "fa64206b",
   "metadata": {},
   "outputs": [],
   "source": []
  },
  {
   "cell_type": "code",
   "execution_count": null,
   "id": "a47bda35",
   "metadata": {},
   "outputs": [],
   "source": []
  },
  {
   "cell_type": "code",
   "execution_count": null,
   "id": "c9af73a6",
   "metadata": {},
   "outputs": [],
   "source": []
  },
  {
   "cell_type": "code",
   "execution_count": null,
   "id": "9eade283",
   "metadata": {},
   "outputs": [],
   "source": []
  }
 ],
 "metadata": {
  "kernelspec": {
   "display_name": "Python 3 (ipykernel)",
   "language": "python",
   "name": "python3"
  },
  "language_info": {
   "codemirror_mode": {
    "name": "ipython",
    "version": 3
   },
   "file_extension": ".py",
   "mimetype": "text/x-python",
   "name": "python",
   "nbconvert_exporter": "python",
   "pygments_lexer": "ipython3",
   "version": "3.9.13"
  }
 },
 "nbformat": 4,
 "nbformat_minor": 5
}
