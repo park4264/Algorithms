{
 "cells": [
  {
   "cell_type": "markdown",
   "id": "5846d7e6",
   "metadata": {},
   "source": [
    "- 코딩 테스트에서 자주 등장하는 기타 그래프 이론 공부\n",
    "\n",
    "# Chapter 10. 그래프 (Graph) 이론 \n",
    "## 10-1. 이미 배운 내용을 훑어보자\n",
    "\n",
    "- 지금까지 코딩 테스트에서 출제 비중이 높은 알고리즘 유형들을 다루어보았다.\n",
    "- 이전 'DFS/BFS'와 '최단경로'도 그래프 알고리즘의 한 유형으로 볼 수 있다.\n",
    "- 앞서 배운 내용에 기반\n",
    "    - **크루스칼 알고리즘 (Kruskal Algorithms)**: 그리디 알고리즘\n",
    "    - **위상 정렬 알고리즘 (Topology Algorithms)**: 큐 자료구조 혹은 스택 자료구조를 활용해야 구현 가능\n",
    "    \n",
    "  \n",
    "### 그래프 복습\n",
    "\n",
    "- **그래프 (Graph)**는 노드 (Node)와 노드 사이에 연결된 간선(Edge)의 정보를 가지고 있는 자료구조\n",
    "- 💡알고리즘 문제를 접했을 때 '서로 다른 개체 (혹은 객체, Objective)가 연결되어 있다'는 이야기를 들을면 가장 먼저 그래프 알고리즘을 떠올려야 한다.\n",
    "\n",
    "\n",
    "- 더불어 그래프 자료구조 중에서 **트리 (Tree)** 🌲 자료구조는 다양한 알고리즘에서 사용되므로 꼭 기억하자!\n",
    "- **최소 힙**은 항상 부모 노드가 자식 노드보다 크기가 작은 자료구조로서 트리 자료구조에 속한다.\n",
    "\n",
    "||그래프|트리|\n",
    "|---|---|---|\n",
    "|방향성|방향 그래프 혹은 무방향 그래프|방향 그래프|\n",
    "|순환성|순환 및 비순환|비순환|\n",
    "|루트 노드 존재 여부|루트 노드가 없음|루트 노드 존재|\n",
    "|노드간 관계성|부모와 자식 관계 없음|부모와 자식 관계|\n",
    "|모델의 종류|네트워크 모델|계층 모델|\n",
    "\n",
    "- 그래프 구현 방식\n",
    "    - 인접 행렬(Adjacency Matrix): 2차원 배열을 사용하는 방식\n",
    "    - 인접 리스트(Adjacency List): 리스트를 사용하는 방식\n",
    "    \n",
    "\n",
    "- 노드의 개수가 $V$, 간선의 개수가 $E$인 그래프를 생각해보자\n",
    "    - 인접 행렬: $O(V^2)$ 만큼의 메모리 공간 필요 / 간선의 비용을 $O(1)$의 시간으로 바로 알 수 있다.\n",
    "    - 인접 리스트: $O(E)$ 만큼의 메모리 공간 필요 / 간선의 비용 $O(V)$ 만큼의 시간이 소요된다.\n",
    "    \n",
    "\n",
    "- 유선순위 큐를 이용하는 <U>다익스트라 최단 경로 알고리즘</U>은 '인접 리스트'를 이용하는 방식이다.\n",
    "    - 노드의 개수가 $V$일 때는 $V$개의 리스트를 만들어서 각 노드와 연결된 모든 간선에 대한 정보를 리스트에 저장했다.\n",
    "    \n",
    "    \n",
    "- <U>플로이드 워셜 알고리즘</U>은 '인접 행렬'을 이용하는 방식\n",
    "    - 모든 노드에 대하여 다른 노드로 가는 최소 비용을 $V^2$ 크기의 2차원 리스트에 저장한 뒤에 해당 비용을 갱신해서 최단 거리를 계산\n",
    "    \n",
    "    \n",
    "---\n",
    "    \n",
    "    \n",
    "## 10-2. 서로소 집합\n",
    "\n",
    "- 서로소 집합 자료구조를 설명하려면 서로소 집합 개념이 필요하다.\n",
    "- 서로소 집합 자료구조는 몇몇 그래프 알고리즘에서 매우 중요하게 사용됨\n",
    "\n",
    "\n",
    "- **서로소 집합 (Disjoint Sets)**: 서로소 부분 집합들로 나누어진 원소들의 데이터를 처리하기 위한 자료구조\n",
    "- 서로소 집합 자료구조의 연산: 2개 (union, find)\n",
    "    - union 연산: 2개의 원소가 포함된 집합을 하나의 집합으로 합치는 연산\n",
    "    - find 연산: 특정한 원소가 속한 집합이 어떤 집합인지 알려주는 연산\n",
    "\n",
    "> 스택과 큐가 각각 push와 pop 연산으로 이루어졌던 것처럼, 서로소 집합 자료구조는 합집합과 찾기 연산으로 이루어짐\n",
    "\n",
    "- 서로소 집합 자료구조는 union-find 자료구조라고 불리기도 한다.\n",
    "\n",
    "### 10-2-1. 서로소 집합 자료구조\n",
    "\n",
    "- 서로소 집합정보(합집합 연산)가 주어졌을 때 트리 자료구조를 이용해서 집합을 표현한는 서로소 집합 계산 알고리즘은 다음과 같다:\n",
    "\n",
    "1. union(합집합) 연산을 확인하여, 서로 연결된 두 노드 A, B를 확인한다.\n",
    "    - A와 B의 루트 노드 A', B'를 각각 찾는다.\n",
    "    - A'와 B'를 부모 노드로 설정한다.  $\\Leftrightarrow$ B'가 A'를 가리키도록 한다.\n",
    "2. 모든 union(합집합) 연산을 처리할 때까지 1번 과정을 반복한다.\n",
    "\n",
    "\n",
    "- 유의할 점\n",
    "    - 우리는 union 연산을 효과적으로 수행하기 위해 '부모 테이블'을 항상 가지고 있어야 함.\n",
    "    - 서로소 집합 알고리즘으로 루트를 찾기 위해서는 재귀적으로 부모를 거슬러 올라가야 한다."
   ]
  },
  {
   "cell_type": "code",
   "execution_count": 1,
   "id": "9e8509d1",
   "metadata": {},
   "outputs": [],
   "source": [
    "# 기본적인 서로소 집합 알고리즘 소스코드 #\n",
    "\n",
    "# 특정 원소가 속한 집합을 찾기\n",
    "def find_parent(parent, x):\n",
    "    # 루트 노드가 아니라면, 루트 노드를 찾을 때까지 재귀적으로 호출\n",
    "    if parent[x] != x:\n",
    "        return find_parent(parent, parent[x])\n",
    "    return x"
   ]
  },
  {
   "cell_type": "code",
   "execution_count": 2,
   "id": "15e4b562",
   "metadata": {},
   "outputs": [],
   "source": [
    "# 두 원소가 속한 집합을 합치기\n",
    "def union_parent(parent, a, b):\n",
    "    a = find_parent(parent, a)\n",
    "    b = find_parent(parent, b)\n",
    "    \n",
    "    if a < b:\n",
    "        parent[b] = a\n",
    "    else:\n",
    "        parent[a] = b"
   ]
  },
  {
   "cell_type": "code",
   "execution_count": 5,
   "id": "15ba0c18",
   "metadata": {},
   "outputs": [
    {
     "name": "stdout",
     "output_type": "stream",
     "text": [
      "6 4\n",
      "1 4\n",
      "2 3\n",
      "2 4\n",
      "5 6\n"
     ]
    }
   ],
   "source": [
    "# 노드의 개수와 간선(union 연산)의 개수 입력받기\n",
    "v, e = map(int, input().split())\n",
    "parent = [0] * (v + 1) # 부모 테이블 초기화\n",
    "\n",
    "# 부모 테이블상에서, 부모를 자기 자신으로 초기화\n",
    "for i in range(1, v + 1):\n",
    "    parent[i] = i\n",
    "    \n",
    "# union 연산을 각각 수행\n",
    "for i in range(e):\n",
    "    a, b = map(int, input().split())\n",
    "    union_parent(parent, a, b)"
   ]
  },
  {
   "cell_type": "code",
   "execution_count": 6,
   "id": "10377571",
   "metadata": {},
   "outputs": [
    {
     "name": "stdout",
     "output_type": "stream",
     "text": [
      "각 원소가 속한 집합:  1 1 1 1 5 5 \n"
     ]
    }
   ],
   "source": [
    "# 각 원소가 속한 집합 출력\n",
    "print('각 원소가 속한 집합: ', end = ' ')\n",
    "for i in range(1, v + 1):\n",
    "    print(find_parent(parent, i), end = ' ')\n",
    "    \n",
    "print()"
   ]
  },
  {
   "cell_type": "code",
   "execution_count": 7,
   "id": "1d908075",
   "metadata": {},
   "outputs": [
    {
     "name": "stdout",
     "output_type": "stream",
     "text": [
      "1 1 2 1 5 5 "
     ]
    }
   ],
   "source": [
    "# 부모 테이블 내용 출력\n",
    "for i in range(1, v+1):\n",
    "    print(parent[i], end = ' ')"
   ]
  },
  {
   "cell_type": "markdown",
   "id": "bd7b6efe",
   "metadata": {},
   "source": [
    "- `find`함수가 비효율적으로 작동한다.\n",
    "- 최악의 경우 `find` 함수가 모든 노드를 다 확인하는 터라 시간 복잡도가 $O(V)$가 된다.\n",
    "- 결과적으로 현재의 알고리즘을 그대로 이용하면 노드의 개수가 $V$, find 혹은 union의 연산의 개수가 $M$개 일 때, 전체 시간 복잡도는 $O(VM)$이 되어 비효율적\n",
    "\n",
    "\n",
    "- 하지만 이러한 `find` 함수는 아주 간단한 과정으로 최적화가 가능\n",
    "- 바로 **경로 압축 (Path Compression) 기법**: `find`함수를 재귀적으로 호출한 뒤에 부모 테이블 값을 갱신하는 기법"
   ]
  },
  {
   "cell_type": "code",
   "execution_count": 9,
   "id": "fa64206b",
   "metadata": {},
   "outputs": [],
   "source": [
    "# 경로 압축 기법 소스코드\n",
    "def find_parent(parent, x):\n",
    "    if parent[x] != x:\n",
    "        parent[x] = find_parent(parent, parent[x])\n",
    "    return parent[x]"
   ]
  },
  {
   "cell_type": "code",
   "execution_count": 11,
   "id": "a47bda35",
   "metadata": {},
   "outputs": [
    {
     "name": "stdout",
     "output_type": "stream",
     "text": [
      "6 4\n",
      "1 4\n",
      "2 3\n",
      "2 4\n",
      "5 6\n",
      "각 원소가 속한 집합: 1 1 1 1 5 5 \n",
      "테이블: 1 1 1 1 5 5 "
     ]
    }
   ],
   "source": [
    "# 개선된 서로소 집합 알고리즘 소스코드 #\n",
    "# 특정 원소가 속한 집합을 찾기\n",
    "def find_parent(parent, x):\n",
    "    # 루트 노드가 아니라면, 루트 노드를 찾을 때까지 재귀적으로 호출\n",
    "    if parent[x] != x:\n",
    "        parent[x] = find_parent(parent, parent[x])\n",
    "    return parent[x]\n",
    "\n",
    "# 두 원소가 속한 집합을 합치기\n",
    "def union_parent(parent, a, b):\n",
    "    a = find_parent(parent, a)\n",
    "    b = find_parent(parent, b)\n",
    "    if a < b:\n",
    "        parent[b] = a\n",
    "    else:\n",
    "        parent[a] = b\n",
    "\n",
    "# 노드의 개수와 간선(Union 연산)의 개수 입력 받기\n",
    "v, e = map(int, input().split())\n",
    "parent = [0] * (v + 1) # 부모 테이블 초기화하기\n",
    "\n",
    "# 부모 테이블상에서, 부모를 자기 자신으로 초기화\n",
    "for i in range(1, v + 1):\n",
    "    parent[i] = i\n",
    "\n",
    "# Union 연산을 각각 수행\n",
    "for i in range(e):\n",
    "    a, b = map(int, input().split())\n",
    "    union_parent(parent, a, b)\n",
    "\n",
    "# 각 원소가 속한 집합 출력하기\n",
    "print('각 원소가 속한 집합: ', end='')\n",
    "for i in range(1, v + 1):\n",
    "    print(find_parent(parent, i), end=' ')\n",
    "\n",
    "print()\n",
    "\n",
    "# 부모 테이블 내용 출력하기\n",
    "print('테이블: ', end='')\n",
    "for i in range(1, v + 1):\n",
    "    print(parent[i], end=' ')"
   ]
  },
  {
   "cell_type": "markdown",
   "id": "781b80e7",
   "metadata": {},
   "source": [
    "### 10-2-2. 서로소 집합 알고리즘의 시간 복잡도\n",
    "\n",
    "- 서로소 집합 알고리즘을 구현할 때, 경로 압축 방법만을 이용할 경우 시간 복잡도를 알아보자\n",
    "- 노드의 개수가 $V$개이고, 최대 $V-1$개의 union연산과 $M$개의 find 연산이 가능할 때, 경로 압축 방법을 적용한 시간 복잡도는$O(V + M(1 + \\log_{2-M/V}V))$라는 것이 알려져 있다.\n",
    "- 경로 압축은 개념 및 구현이 간단하다는 점에서 기억하면 좋다\n",
    "\n",
    "\n",
    "### 10-2-3. 서로소 집합을 활용한 사이클 판별\n",
    "\n",
    "- 서로소 집합은 다양한 알고리즘에 사용될 수 있다.\n",
    "- 서로소 집합은 무방향 그래프 내에서의 사이클을 판별할 떄 사용할 수 있다.\n",
    "\n",
    "\n",
    "- union 연산은 그래프에서의 간선으로 표현될 수 있다고 했다.\n",
    "- 따라서 간선을 하나씩 확인하면서 두 노드가 포함되어 있는 집합을 합치는 과정을 반복하는 것만으로도 사이클을 판별할 수 있다.\n",
    "- 알고리즘은 다음과 같다\n",
    "\n",
    "> 1. 각 간선을 확인하며 두 노드의 루트 노드를 확인한다.\n",
    ">    1. 루트 노드가 서로 다르다면 두 노드에 대하여 union 연산을 수행한다.\n",
    ">    2. 루트 노드가 서로 같아면 사이클(Cycle)이 발생한 것이다.\n",
    "> 2. 그래프에 포함되어 있는 모든 가넛ㄴ에 대하여 1번 과정을 반복한다.\n",
    "\n",
    "- 이러한 사이클 판별 알고리즘은 그래프에 포함되어 있는 간선의 개수가 $E$개일 때\n",
    "- 모든 간선을 하나씩 확인하며, 메 간선에 대하여 `union` 및 `find` 함수를 호출하는 방식으로 동작\n",
    "- 이 알고리즘은 간선에 방향성이 없는 무향 그래프에서만 적용 가능"
   ]
  },
  {
   "cell_type": "code",
   "execution_count": 12,
   "id": "9eade283",
   "metadata": {},
   "outputs": [],
   "source": [
    "# 특정 원소가 속한 집합을 찾기\n",
    "def find_parent(parent, x):\n",
    "    # 루트 노드가 아니라면, 루트 노드를 찾을 때까지 재귀적으로 호출\n",
    "    if parent[x] != x:\n",
    "        parent[x] = find_parent(parent, parent[x])\n",
    "    return parent[x]\n",
    "\n",
    "# 두 원소가 속한 집합을 합치기\n",
    "def union_parent(parent, a, b):\n",
    "    a = find_parent(parent, a)\n",
    "    b = find_parent(parent, b)\n",
    "    if a < b:\n",
    "        parent[b] = a\n",
    "    else:\n",
    "        parent[a] = b"
   ]
  },
  {
   "cell_type": "code",
   "execution_count": 13,
   "id": "3895941e",
   "metadata": {},
   "outputs": [
    {
     "name": "stdout",
     "output_type": "stream",
     "text": [
      "3 3\n",
      "1 2\n",
      "1 3\n",
      "2 3\n"
     ]
    }
   ],
   "source": [
    "# 노드의 개수와 간선(union 연산)의 개수 입력받기\n",
    "v, e = map(int, input().split())\n",
    "parent = [0] * (v + 1) # 부모 테이블 초기화\n",
    "\n",
    "# 부모 테이블에서, 부모를 자기 자신으로 초기화\n",
    "for i in range(1, v + 1):\n",
    "    parent[i] = i\n",
    "    \n",
    "cycle = False # 사이클 발생 여부\n",
    "\n",
    "for i in range(e):\n",
    "    a, b = map(int, input().split())\n",
    "    # 사이클이 발생한 경우 종료\n",
    "    if find_parent(parent, a) == find_parent(parent, b):\n",
    "        cycle = True\n",
    "        break\n",
    "    # 사이클이 발생하지 않았다면 합집합(Union) 연산 수행\n",
    "    else:\n",
    "        union_parent(parent, a, b)"
   ]
  },
  {
   "cell_type": "code",
   "execution_count": 15,
   "id": "15b51a22",
   "metadata": {},
   "outputs": [
    {
     "name": "stdout",
     "output_type": "stream",
     "text": [
      "사이클이 발생했습니다.\n"
     ]
    }
   ],
   "source": [
    "if cycle:\n",
    "    print(\"사이클이 발생했습니다.\")\n",
    "else:\n",
    "    print(\"사이클이 발생하지 않았습니다.\")"
   ]
  },
  {
   "cell_type": "markdown",
   "id": "fd49f761",
   "metadata": {},
   "source": [
    "## 10-3. 신장 트리\n",
    "\n",
    "- 신장 트리는 그래프 알고리즘 문제로 자주 출제되는 문제 유형\n",
    "- **신장 트리(Spanning Tree)**: 하나의 그래프가 있을 때 모든 노드를 포함하면서 사이클이 존재하지 않는 부분 그래프\n",
    "- 이때 모든 노드가 포함되어 서로 연결되면서 사이클이 존재하지 않는다는 조건은 $\\Rightarrow$ <U>트리의 성립 조건</U>\n",
    "\n",
    "### 10-3-1. 크루스칼 알고리즘\n",
    "\n",
    "- 우리는 다양한 문제 상항에서 가능한 한 최소한의 비용으로 신장 트리를 찾아야 할 때가 있다.\n",
    "- ex) N개의 도시가 존재하는 상황에서 두 도시 사이에 도로를 놓아 전체 도시가 서로 연결될 수 있게 도로를 설치하는 경우\n",
    "- **최소 신장 트리 알고리즘:** 신장 트리 중에서 최소 비용으로 만들 수 있는 신장 트리를 찾는 알고리즘\n",
    "- **크루스칼 알고리즘 (Kruskal Algorithm)**: 대표적인 최소 신장 트리 알고리즘\n",
    "\n",
    "\n",
    ">1. 간선 데이터를 비용에 따라 오름차순으로 정렬한다.\n",
    ">2. 간선을 하나씩 확인하며 현재의 간선이 사이클을 발생시키는지 확인한다.\n",
    ">    1. 사이클이 발생하지 않는 경우 최소 신장 트리에 포함시킨다.\n",
    ">    2. 사이클이 발생하는 경우 최소 신장 트리에 포함시키지 않는다.\n",
    ">3. 모든 간선에 대하여 2번의 과정을 반복한다.\n",
    "\n",
    "- 최소 신장 트리는 일종의 트리 (Tree) 자료구조이므로, 최종적으로 신장 트리에 포함되는 간선의 개수"
   ]
  }
 ],
 "metadata": {
  "kernelspec": {
   "display_name": "Python 3 (ipykernel)",
   "language": "python",
   "name": "python3"
  },
  "language_info": {
   "codemirror_mode": {
    "name": "ipython",
    "version": 3
   },
   "file_extension": ".py",
   "mimetype": "text/x-python",
   "name": "python",
   "nbconvert_exporter": "python",
   "pygments_lexer": "ipython3",
   "version": "3.9.13"
  }
 },
 "nbformat": 4,
 "nbformat_minor": 5
}
